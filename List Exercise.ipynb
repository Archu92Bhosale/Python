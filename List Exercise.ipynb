{
 "cells": [
  {
   "cell_type": "code",
   "execution_count": null,
   "id": "3dacbcfe",
   "metadata": {},
   "outputs": [],
   "source": [
    "1. Write a Python program to sum all the items \n",
    "Sample Output \n",
    "[1,7,-10,34,2,-8] \n",
    "Sum all the items = 26"
   ]
  },
  {
   "cell_type": "code",
   "execution_count": 3,
   "id": "19a49093",
   "metadata": {},
   "outputs": [
    {
     "name": "stdout",
     "output_type": "stream",
     "text": [
      "sum all the items :  26\n"
     ]
    }
   ],
   "source": [
    "list=[1,7,-10,34,2,-8]\n",
    "Total=sum(list)\n",
    "print(\"sum all the items : \" ,Total)"
   ]
  },
  {
   "cell_type": "code",
   "execution_count": null,
   "id": "5f268fb2",
   "metadata": {},
   "outputs": [],
   "source": [
    "2. Write a Python program to multiply all the items in a list \n",
    "[3,4,5,4,7] \n",
    "Multiply all the items in a list : 1680"
   ]
  },
  {
   "cell_type": "code",
   "execution_count": 6,
   "id": "7372113f",
   "metadata": {},
   "outputs": [
    {
     "name": "stdout",
     "output_type": "stream",
     "text": [
      "Multiply all the items in a list : 1680\n"
     ]
    }
   ],
   "source": [
    "item=[3,4,5,4,7]\n",
    "total=1\n",
    "for i in item:\n",
    "    total=total*i\n",
    "print(\"Multiply all the items in a list :\",total)    "
   ]
  },
  {
   "cell_type": "code",
   "execution_count": null,
   "id": "6f23c1d0",
   "metadata": {},
   "outputs": [],
   "source": [
    "3. Write a Python program to get the largest number from a list \n",
    "Sample Output \n",
    "[1,7,10,34,2,8] \n",
    "Largest Number : 34 "
   ]
  },
  {
   "cell_type": "code",
   "execution_count": 7,
   "id": "60904e8a",
   "metadata": {},
   "outputs": [
    {
     "name": "stdout",
     "output_type": "stream",
     "text": [
      "Largest Number : 34\n"
     ]
    }
   ],
   "source": [
    "list=[1,7,10,34,2,8]\n",
    "largest_num=list[3]\n",
    "print(\"Largest Number :\",largest_num)"
   ]
  },
  {
   "cell_type": "code",
   "execution_count": 8,
   "id": "08df2f60",
   "metadata": {},
   "outputs": [
    {
     "name": "stdout",
     "output_type": "stream",
     "text": [
      "Largest Number : 34\n"
     ]
    }
   ],
   "source": [
    "list=[1,7,10,34,2,8]\n",
    "max=list[0]\n",
    "for i in list:\n",
    "    if i>max:\n",
    "        max=i\n",
    "print(\"Largest Number :\",max)        "
   ]
  },
  {
   "cell_type": "code",
   "execution_count": null,
   "id": "cec4099b",
   "metadata": {},
   "outputs": [],
   "source": [
    "4. Write a Python program to get the smallest number from a list \n",
    "Sample Output \n",
    "[51,7,10,34,2,8] \n",
    "Smallest Number : 2"
   ]
  },
  {
   "cell_type": "code",
   "execution_count": 9,
   "id": "1c4bcdf0",
   "metadata": {},
   "outputs": [
    {
     "name": "stdout",
     "output_type": "stream",
     "text": [
      "samllest number: 2\n"
     ]
    }
   ],
   "source": [
    "l=[51,7,10,34,2,8] \n",
    "min=l[0]\n",
    "for i in l:\n",
    "    if i < min:\n",
    "        min=i\n",
    "print(\"samllest number:\",min)        \n",
    "        "
   ]
  },
  {
   "cell_type": "code",
   "execution_count": 12,
   "id": "a6ada19b",
   "metadata": {},
   "outputs": [
    {
     "name": "stdout",
     "output_type": "stream",
     "text": [
      "smallest number:  2\n"
     ]
    }
   ],
   "source": [
    "l=[51,7,10,34,2,8]\n",
    "print(\"smallest number: \",l[4])## By using slicing"
   ]
  },
  {
   "cell_type": "code",
   "execution_count": null,
   "id": "c4d0deb8",
   "metadata": {},
   "outputs": [],
   "source": [
    "5. Write a Python program to count the number of strings where the string length is 2 or \n",
    "more and the first and last character are same from a given list of strings \n",
    "Sample Output \n",
    "List Exercise \n",
    " \n",
    "['abc', 'xyz', 'aba', '1221'] \n",
    "First and Last Character are same : 2"
   ]
  },
  {
   "cell_type": "code",
   "execution_count": null,
   "id": "2e57b842",
   "metadata": {},
   "outputs": [],
   "source": [
    "6. Write a Python program to remove duplicates from a list \n",
    "Sample Output \n",
    "[1,2,3,7,2,1,5,6,4,8,5,4] \n",
    "{1,2,3,4,5,6,7,8}"
   ]
  },
  {
   "cell_type": "code",
   "execution_count": 14,
   "id": "c4dcf264",
   "metadata": {},
   "outputs": [
    {
     "name": "stdout",
     "output_type": "stream",
     "text": [
      "{1, 2, 3, 4, 5, 6, 7, 8}\n"
     ]
    }
   ],
   "source": [
    "a=[1,2,3,7,2,1,5,6,4,8,5,4] \n",
    "b=set(a)\n",
    "print(b)"
   ]
  },
  {
   "cell_type": "code",
   "execution_count": null,
   "id": "e67a716c",
   "metadata": {},
   "outputs": [],
   "source": [
    "7. Write a Python program to check a list is empty or not \n",
    "Sample Output \n",
    "[34,45,6,5,4,56,7] \n",
    "List is Not Empty"
   ]
  },
  {
   "cell_type": "code",
   "execution_count": 15,
   "id": "89b2ca33",
   "metadata": {},
   "outputs": [
    {
     "name": "stdout",
     "output_type": "stream",
     "text": [
      "List is not Empty\n"
     ]
    }
   ],
   "source": [
    "a=[34,45,6,5,4,56,7]\n",
    "if a:\n",
    "    print(\"List is not Empty\")\n",
    "else:\n",
    "    print(\"List is Empty\")"
   ]
  },
  {
   "cell_type": "code",
   "execution_count": 16,
   "id": "1cdf1987",
   "metadata": {},
   "outputs": [
    {
     "name": "stdout",
     "output_type": "stream",
     "text": [
      "List is Empty\n"
     ]
    }
   ],
   "source": [
    "a=[]\n",
    "if a:\n",
    "    print(\"List is not Empty\")\n",
    "else:\n",
    "    print(\"List is Empty\")\n"
   ]
  },
  {
   "cell_type": "code",
   "execution_count": null,
   "id": "e6dd8214",
   "metadata": {},
   "outputs": [],
   "source": [
    "8. Write a Python program to clone or copy a list \n",
    "Sample Output \n",
    "[10, 22, 44, 23, 4] \n",
    "Clone or Copy a List : [10, 22, 44, 23, 4]"
   ]
  },
  {
   "cell_type": "code",
   "execution_count": 11,
   "id": "04f86624",
   "metadata": {},
   "outputs": [
    {
     "name": "stdout",
     "output_type": "stream",
     "text": [
      "Old List :  [10, 22, 44, 23, 4]\n",
      "New List :  [10, 22, 44, 23, 4]\n"
     ]
    }
   ],
   "source": [
    "old_list=[10, 22, 44, 23, 4]\n",
    "new_list=list(old_list)\n",
    "print(\"Old List : \",old_list)\n",
    "print(\"New List : \",new_list)"
   ]
  },
  {
   "cell_type": "code",
   "execution_count": null,
   "id": "30aa8915",
   "metadata": {},
   "outputs": [],
   "source": [
    "9. Write a Python program to find the list of words that are longer than n from a given list \n",
    "of words \n",
    "Sample Output \n",
    "Find the List of Words that are Longer than n from a given List of Words \n",
    "Given value of n = 4 \n",
    "['Words', 'Longer', 'given', 'Words']"
   ]
  },
  {
   "cell_type": "code",
   "execution_count": 23,
   "id": "feece7f0",
   "metadata": {},
   "outputs": [
    {
     "name": "stdout",
     "output_type": "stream",
     "text": [
      "['Words', 'Longer', 'given', 'Words']\n"
     ]
    }
   ],
   "source": [
    "n=4\n",
    "str=\"Find the List of Words that are Longer than n from a given List of Words\"\n",
    "new_list = []\n",
    "text = str.split(\" \")\n",
    "for x in text:\n",
    "    if len(x) > n:\n",
    "        new_list.append(x)\n",
    "print(new_list)"
   ]
  },
  {
   "cell_type": "code",
   "execution_count": null,
   "id": "9732e615",
   "metadata": {},
   "outputs": [],
   "source": [
    "-=910. Write a Program that get two lists as input and check if they have at least one common \n",
    "member \n",
    "Sample Output \n",
    "[1,2,3,4,5] \n",
    "[5,6,7,8,9]"
   ]
  },
  {
   "cell_type": "code",
   "execution_count": 24,
   "id": "f08d9fa3",
   "metadata": {},
   "outputs": [
    {
     "name": "stdout",
     "output_type": "stream",
     "text": [
      "True\n",
      "Lists have at least one common member\n"
     ]
    }
   ],
   "source": [
    "list1=[1,2,3,4,5]\n",
    "list2=[5,6,7,8,9]\n",
    "result = False\n",
    "for x in list1:\n",
    "for y in list2:\n",
    "    if x == y:\n",
    "        result = True\n",
    "        print(result)\n",
    "if result:\n",
    "    print(\"Lists have at least one common member\")\n",
    "else:\n",
    "    print(\"Lists do not have any common member\")"
   ]
  },
  {
   "cell_type": "code",
   "execution_count": null,
   "id": "bd886c53",
   "metadata": {},
   "outputs": [],
   "source": [
    " \n",
    "11. Write a Python program to print a specified list after removing the 0th, 4th and 5th \n",
    "elements. (enumerate) \n",
    "Sample Output \n",
    "[\"Cat\", \"Dog\", \"Elephant\", \"Fox\", \"Tiger\", \"Lion\", \"Ponda\"] \n",
    "['Dog', 'Elephant', 'Fox', 'Ponda']"
   ]
  },
  {
   "cell_type": "code",
   "execution_count": 30,
   "id": "166027c3",
   "metadata": {},
   "outputs": [
    {
     "name": "stdout",
     "output_type": "stream",
     "text": [
      "['Dog', 'Elephant', 'Fox', 'Ponda']\n"
     ]
    }
   ],
   "source": [
    "animal=[\"Cat\", \"Dog\", \"Elephant\", \"Fox\", \"Tiger\", \"Lion\", \"Ponda\"] \n",
    "animal = [x for (i,x) in enumerate(animal) if i not in (0,4,5)]\n",
    "print(animal)\n"
   ]
  },
  {
   "cell_type": "code",
   "execution_count": null,
   "id": "56b17d67",
   "metadata": {},
   "outputs": [],
   "source": [
    "12. Write a Python program to print the numbers of a specified list after removing even \n",
    "numbers from it \n",
    "Sample Output \n",
    "[7,32,81,20,25,14,23,27] "
   ]
  },
  {
   "cell_type": "code",
   "execution_count": 36,
   "id": "35a625ba",
   "metadata": {},
   "outputs": [
    {
     "ename": "IndentationError",
     "evalue": "expected an indented block (Temp/ipykernel_22896/404040981.py, line 4)",
     "output_type": "error",
     "traceback": [
      "\u001b[1;36m  File \u001b[1;32m\"C:\\Users\\ARCHAN~1\\AppData\\Local\\Temp/ipykernel_22896/404040981.py\"\u001b[1;36m, line \u001b[1;32m4\u001b[0m\n\u001b[1;33m    print(n)\u001b[0m\n\u001b[1;37m            ^\u001b[0m\n\u001b[1;31mIndentationError\u001b[0m\u001b[1;31m:\u001b[0m expected an indented block\n"
     ]
    }
   ],
   "source": [
    "n = [7,32,81,20,25,14,23,27]\n",
    "for i in n:\n",
    "    if i%2!=0:\n",
    "print(n)"
   ]
  },
  {
   "cell_type": "code",
   "execution_count": null,
   "id": "6cc59ce6",
   "metadata": {},
   "outputs": [],
   "source": [
    "13. Write a Python program to shuffle and print a specified list (shuffle) \n",
    "Sample Output \n",
    "[\"Cat\", \"Dog\", \"Elephant\", \"Fox\", \"Tiger\", \"Lion\", \"Ponda\"] \n",
    "['Fox', 'Cat', 'Tiger', 'Lion', 'Dog', 'Ponda', 'Elephant']"
   ]
  },
  {
   "cell_type": "code",
   "execution_count": 39,
   "id": "2e548fec",
   "metadata": {},
   "outputs": [
    {
     "name": "stdout",
     "output_type": "stream",
     "text": [
      "['Elephant', 'Fox', 'Ponda', 'Dog', 'Lion', 'Cat', 'Tiger']\n"
     ]
    }
   ],
   "source": [
    "from random import shuffle\n",
    "animal=[\"Cat\", \"Dog\", \"Elephant\", \"Fox\", \"Tiger\", \"Lion\", \"Ponda\"]\n",
    "shuffle(animal)\n",
    "print(animal)"
   ]
  },
  {
   "cell_type": "code",
   "execution_count": null,
   "id": "de85cc89",
   "metadata": {},
   "outputs": [],
   "source": [
    "14. Write a Python program to generate and print a list of first and last 5 elements where \n",
    "the values are square of numbers between 1 and 30 \n",
    "Sample Output \n",
    "First 5 elements : [1, 4, 9, 16, 25] \n",
    "Last 5 elements : [625, 676, 729, 784, 841]"
   ]
  },
  {
   "cell_type": "code",
   "execution_count": 41,
   "id": "29c545df",
   "metadata": {},
   "outputs": [
    {
     "name": "stdout",
     "output_type": "stream",
     "text": [
      "[1, 4, 9, 16, 25]\n",
      "[625, 676, 729, 784, 841]\n"
     ]
    }
   ],
   "source": [
    "l=[]\n",
    "for i in range(1,30):\n",
    "    l.append(i**2)\n",
    "print(l[:5])\n",
    "print(l[-5:])"
   ]
  },
  {
   "cell_type": "code",
   "execution_count": null,
   "id": "de65e6e5",
   "metadata": {},
   "outputs": [],
   "source": [
    "15. Write a Python program to generate all permutations of a list in Python. (itertools) \n",
    "Sample Output \n",
    "[1,2,3] \n",
    "[(1, 2, 3), (1, 3, 2), (2, 1, 3), (2, 3, 1), (3, 1, 2), (3, 2, 1)]"
   ]
  },
  {
   "cell_type": "code",
   "execution_count": 10,
   "id": "5a89f62f",
   "metadata": {},
   "outputs": [
    {
     "name": "stdout",
     "output_type": "stream",
     "text": [
      "[(1, 2, 3), (1, 3, 2), (2, 1, 3), (2, 3, 1), (3, 1, 2), (3, 2, 1)]\n"
     ]
    }
   ],
   "source": [
    "import itertools\n",
    "print(list(itertools.permutations([1,2,3])))\n",
    " "
   ]
  },
  {
   "cell_type": "code",
   "execution_count": null,
   "id": "fd6dd469",
   "metadata": {},
   "outputs": [],
   "source": [
    "16. Write a Python program to convert a list of characters into a string \n",
    "Sample Output \n",
    "['T','u','t','o','r',' ','J','o','e','s']"
   ]
  },
  {
   "cell_type": "code",
   "execution_count": 49,
   "id": "aee3f294",
   "metadata": {},
   "outputs": [
    {
     "name": "stdout",
     "output_type": "stream",
     "text": [
      "Tutor Joes\n"
     ]
    }
   ],
   "source": [
    "a=['T','u','t','o','r',' ','J','o','e','s']\n",
    "b=''.join(a)\n",
    "print(b)"
   ]
  },
  {
   "cell_type": "code",
   "execution_count": null,
   "id": "e028c46c",
   "metadata": {},
   "outputs": [],
   "source": [
    "17. Write a Python program to find the index of an item in a specified list \n",
    "Sample Output \n",
    "[20, 70, 30, 90, 10, 30, 90, 10, 80] \n",
    "Item to find the index of 30 \n",
    "Index Number of Item = 2"
   ]
  },
  {
   "cell_type": "code",
   "execution_count": 50,
   "id": "2b482a08",
   "metadata": {},
   "outputs": [
    {
     "data": {
      "text/plain": [
       "30"
      ]
     },
     "execution_count": 50,
     "metadata": {},
     "output_type": "execute_result"
    }
   ],
   "source": [
    "s=[20, 70, 30, 90, 10, 30, 90, 10, 80]\n",
    "s[2]"
   ]
  },
  {
   "cell_type": "code",
   "execution_count": 51,
   "id": "005e2b80",
   "metadata": {},
   "outputs": [
    {
     "name": "stdout",
     "output_type": "stream",
     "text": [
      "2\n"
     ]
    }
   ],
   "source": [
    "s=[20, 70, 30, 90, 10, 30, 90, 10, 80]\n",
    "print(s.index(30))"
   ]
  },
  {
   "cell_type": "code",
   "execution_count": null,
   "id": "a0f6e061",
   "metadata": {},
   "outputs": [],
   "source": [
    "18. Write a Python program to flatten a shallow list \n",
    "Sample Output \n",
    "[[20,30,70],[30,90,10], [30,20], [70,90,10,80]] \n",
    "[20, 30, 70, 30, 90, 10, 30, 20, 70, 90, 10, 80]"
   ]
  },
  {
   "cell_type": "code",
   "execution_count": null,
   "id": "b9e49fa3",
   "metadata": {},
   "outputs": [],
   "source": [
    "19. Write a Python program to add a list to the second list \n",
    "Sample Output \n",
    "[10, 20, 30, 40] \n",
    "[\"Cat\", \"Dog\", \"Lion\", \"Ponda\"] \n",
    "[10, 20, 30, 40, 'Cat', 'Dog', 'Lion', 'Ponda']"
   ]
  },
  {
   "cell_type": "code",
   "execution_count": 53,
   "id": "2c35a827",
   "metadata": {},
   "outputs": [
    {
     "name": "stdout",
     "output_type": "stream",
     "text": [
      "[10, 20, 30, 40, 'Cat', 'Dog', 'Lion', 'Ponda']\n"
     ]
    }
   ],
   "source": [
    "a=[10, 20, 30, 40] \n",
    "b=[\"Cat\", \"Dog\", \"Lion\", \"Ponda\"] \n",
    "c=a+b\n",
    "print(c)"
   ]
  },
  {
   "cell_type": "code",
   "execution_count": null,
   "id": "36cee824",
   "metadata": {},
   "outputs": [],
   "source": [
    "20. Write a Python program to select an item randomly from a list Using random.choice() \n",
    "Sample Output \n",
    "[\"Cat\", \"Dog\", \"Elephant\", \"Fox\", \"Tiger\", \"Lion\", \"Ponda\"] \n",
    "Item randomly from a list : Fox"
   ]
  },
  {
   "cell_type": "code",
   "execution_count": 56,
   "id": "f0bc764d",
   "metadata": {},
   "outputs": [
    {
     "data": {
      "text/plain": [
       "'Lion'"
      ]
     },
     "execution_count": 56,
     "metadata": {},
     "output_type": "execute_result"
    }
   ],
   "source": [
    "import random\n",
    "animal=[\"Cat\", \"Dog\", \"Elephant\", \"Fox\", \"Tiger\", \"Lion\", \"Ponda\"] \n",
    "random.choice(animal)"
   ]
  },
  {
   "cell_type": "code",
   "execution_count": null,
   "id": "302cbfe8",
   "metadata": {},
   "outputs": [],
   "source": [
    "21. Write a python program to check whether two lists are circularly identical \n",
    "Sample Output \n",
    "[8, 8, 12, 12, 8] \n",
    "[8, 8, 8, 12, 12] \n",
    "[1, 8, 8, 12, 12] \n",
    "Compare List1 and List2 : True \n",
    "Compare List1 and List3 : False"
   ]
  },
  {
   "cell_type": "code",
   "execution_count": 9,
   "id": "f716f4fc",
   "metadata": {},
   "outputs": [
    {
     "name": "stdout",
     "output_type": "stream",
     "text": [
      "Compare List1 and List2 :  True\n",
      "Compare List1 and List3 :  False\n"
     ]
    }
   ],
   "source": [
    "list1 = [8, 8, 12, 12, 8]\n",
    "list2 = [8, 8, 8, 12, 12]\n",
    "list3 = [1, 8, 8, 12, 12]\n",
    " \n",
    "print(\"Compare List1 and List2 : \",' '.join(map(str, list2)) in ' '.join(map(str, list1 * 2)))\n",
    "print(\"Compare List1 and List3 : \",' '.join(map(str, list3)) in ' '.join(map(str, list1 * 2)))\n",
    " "
   ]
  },
  {
   "cell_type": "code",
   "execution_count": null,
   "id": "2c0bcc82",
   "metadata": {},
   "outputs": [],
   "source": [
    "22. Write a Python program to find the second smallest number in a list \n",
    "Sample Output \n",
    "[2,4,56,78,4,34,5,8,9] \n",
    "Second Smallest Number : 4"
   ]
  },
  {
   "cell_type": "code",
   "execution_count": 58,
   "id": "e10de50b",
   "metadata": {},
   "outputs": [
    {
     "name": "stdout",
     "output_type": "stream",
     "text": [
      "4\n"
     ]
    }
   ],
   "source": [
    "a=[2,4,56,78,4,34,5,8,9]\n",
    "second_smallest_number=a[1]\n",
    "print(second_smallest_number)"
   ]
  },
  {
   "cell_type": "code",
   "execution_count": null,
   "id": "a3dac7b9",
   "metadata": {},
   "outputs": [],
   "source": [
    "23. Write a Python program to find the second largest number in a list \n",
    "Sample Output \n",
    "[82,4,56,78,4,34,5,100,9] \n",
    "Second Largest Number : 82"
   ]
  },
  {
   "cell_type": "code",
   "execution_count": 59,
   "id": "b5b0b89b",
   "metadata": {},
   "outputs": [
    {
     "name": "stdout",
     "output_type": "stream",
     "text": [
      "82\n"
     ]
    }
   ],
   "source": [
    "a=[82,4,56,78,4,34,5,100,9] \n",
    "second_largest_number=a[0]\n",
    "print(second_largest_number)"
   ]
  },
  {
   "cell_type": "code",
   "execution_count": null,
   "id": "3d6eb7fe",
   "metadata": {},
   "outputs": [],
   "source": [
    "24. Write a Python program to get unique values from a list \n",
    "Sample Output \n",
    "[82, 4, 10, 56, 78, 4, 34, 5, 10, 9] \n",
    "[34, 4, 5, 9, 10, 78, 82, 56]"
   ]
  },
  {
   "cell_type": "code",
   "execution_count": 8,
   "id": "11dbac5b",
   "metadata": {},
   "outputs": [
    {
     "name": "stdout",
     "output_type": "stream",
     "text": [
      "[34, 4, 5, 9, 10, 78, 82, 56]\n"
     ]
    }
   ],
   "source": [
    "s=[82, 4, 10, 56, 78, 4, 34, 5, 10, 9] \n",
    "l=set(s)\n",
    "l=list(l)\n",
    "print(l)"
   ]
  },
  {
   "cell_type": "code",
   "execution_count": 7,
   "id": "babafe41",
   "metadata": {},
   "outputs": [
    {
     "name": "stdout",
     "output_type": "stream",
     "text": [
      "Original List :  [82, 4, 10, 56, 78, 4, 34, 5, 10, 9]\n",
      "Unique Numbers :  [34, 4, 5, 9, 10, 78, 82, 56]\n"
     ]
    }
   ],
   "source": [
    "l = [ 82,4,10,56,78,4,34,5,10,9]\n",
    "print(\"Original List : \",l)\n",
    "s = set(l)\n",
    "new_list = list(s)\n",
    "print(\"Unique Numbers : \",new_list)"
   ]
  },
  {
   "cell_type": "code",
   "execution_count": null,
   "id": "f296bf6e",
   "metadata": {},
   "outputs": [],
   "source": [
    "25. Write a Python program to get the frequency of the elements in a list. \n",
    "Sample Output \n",
    "[10, 30, 50, 10, 20, 60, 20, 60, 40, 40, 50, 50, 30] \n",
    "Counter({50: 3, 10: 2, 30: 2, 20: 2, 60: 2, 40: 2})"
   ]
  },
  {
   "cell_type": "code",
   "execution_count": 66,
   "id": "edad41fb",
   "metadata": {},
   "outputs": [
    {
     "name": "stdout",
     "output_type": "stream",
     "text": [
      "Frequency of the element : Counter({50: 3, 10: 2, 30: 2, 20: 2, 60: 2, 40: 2})\n"
     ]
    }
   ],
   "source": [
    "import collections\n",
    "a=[10, 30, 50, 10, 20, 60, 20, 60, 40, 40, 50, 50, 30] \n",
    "f=collections.Counter(a)\n",
    "print(\"Frequency of the element :\",f)\n"
   ]
  },
  {
   "cell_type": "code",
   "execution_count": null,
   "id": "131f5dbc",
   "metadata": {},
   "outputs": [],
   "source": [
    "26. Create a list by concatenating a given list which range goes from 1 to n \n",
    "Sample Output \n",
    "['T', 'J'] \n",
    "N = 10 \n",
    " \n",
    "['T1', 'J1', 'T2', 'J2', 'T3', 'J3', 'T4', 'J4', 'T5', 'J5', 'T6', 'J6', 'T7', 'J7', 'T8', 'J8', 'T9', 'J9', 'T10', 'J10'] "
   ]
  },
  {
   "cell_type": "code",
   "execution_count": 67,
   "id": "78bbba17",
   "metadata": {},
   "outputs": [
    {
     "name": "stdout",
     "output_type": "stream",
     "text": [
      "['T1', 'J1', 'T2', 'J2', 'T3', 'J3', 'T4', 'J4', 'T5', 'J5', 'T6', 'J6', 'T7', 'J7', 'T8', 'J8', 'T9', 'J9', 'T10', 'J10']\n"
     ]
    }
   ],
   "source": [
    "ch = ['T', 'J']\n",
    "n = 10\n",
    "new_list = ['{}{}'.format(a, b) for b in range(1, n+1) for a in ch]\n",
    "print(new_list)\n",
    " "
   ]
  },
  {
   "cell_type": "code",
   "execution_count": null,
   "id": "52d0f333",
   "metadata": {},
   "outputs": [],
   "source": [
    "27. Write a Python program to get variable unique identification number or string \n",
    "Sample Output \n",
    "x = 30 \n",
    "s = \"Tutor Joes\" \n",
    "Unique Identification Number : 7005f980 \n",
    "Unique Identification String : c24bb0"
   ]
  },
  {
   "cell_type": "code",
   "execution_count": 73,
   "id": "7895498c",
   "metadata": {},
   "outputs": [
    {
     "name": "stdout",
     "output_type": "stream",
     "text": [
      "288343f6cd0\n",
      "2883c15f170\n"
     ]
    }
   ],
   "source": [
    "number = 30\n",
    "print(format(id(number),'x'))\n",
    "string= \"Tutor Joes\"\n",
    "print(format(id(string),'x' )) \n",
    " "
   ]
  },
  {
   "cell_type": "code",
   "execution_count": null,
   "id": "122dd16f",
   "metadata": {},
   "outputs": [],
   "source": [
    "28. Write a Python program to find common items from two lists \n",
    "Sample Output \n",
    "[23,45,67,78,89,34] \n",
    "[34,89,55,56,39,67] \n",
    "Common items from two lists : {89, 34, 67}"
   ]
  },
  {
   "cell_type": "code",
   "execution_count": 74,
   "id": "6e82fba3",
   "metadata": {},
   "outputs": [
    {
     "name": "stdout",
     "output_type": "stream",
     "text": [
      "{89, 34, 67}\n"
     ]
    }
   ],
   "source": [
    "a=[23,45,67,78,89,34]\n",
    "b=[34,89,55,56,39,67] \n",
    "print(set(a) & set(b))"
   ]
  },
  {
   "cell_type": "code",
   "execution_count": null,
   "id": "ca45aacb",
   "metadata": {},
   "outputs": [],
   "source": [
    "29. Write a Python program to split a list based on first character of word \n",
    "Sample Output \n",
    "[\"cat\", \"dog\", \"cow\", \"tiger\", \"lion\", \"Fox\", \"Shark\", \"Snake\", \"turtle\", \"mouse\", \"monkey\", \n",
    "\"bear\"] \n",
    "F \n",
    "     Fox \n",
    "S \n",
    "     Shark \n",
    "     Snake \n",
    "b \n",
    "     bear \n",
    "c \n",
    "     cat \n",
    " \n",
    "     cow \n",
    "d \n",
    "     dog \n",
    "l \n",
    "     lion \n",
    "m \n",
    "     monkey \n",
    "     mouse \n",
    "t \n",
    "     tiger \n",
    "     turtle"
   ]
  },
  {
   "cell_type": "code",
   "execution_count": 6,
   "id": "7c182bbb",
   "metadata": {},
   "outputs": [
    {
     "name": "stdout",
     "output_type": "stream",
     "text": [
      "F\n",
      "Fox\n",
      "S\n",
      "Shark\n",
      "Snake\n",
      "b\n",
      "bear\n",
      "c\n",
      "cat\n",
      "cow\n",
      "d\n",
      "dog\n",
      "l\n",
      "lion\n",
      "m\n",
      "monkey\n",
      "mouse\n",
      "t\n",
      "tiger\n",
      "turtle\n"
     ]
    }
   ],
   "source": [
    "from itertools import groupby\n",
    "from operator import itemgetter\n",
    "\n",
    "word_list=[\"cat\", \"dog\", \"cow\", \"tiger\", \"lion\", \"Fox\", \"Shark\", \"Snake\", \"turtle\", \"mouse\", \"monkey\", \n",
    "\"bear\"] \n",
    "\n",
    "for letter, words in groupby(sorted(word_list), key=itemgetter(0)):\n",
    "    print(letter)\n",
    "    for word in words:\n",
    "        print(word)"
   ]
  },
  {
   "cell_type": "code",
   "execution_count": null,
   "id": "b1af588b",
   "metadata": {},
   "outputs": [],
   "source": [
    " \n",
    "30. Write a Python program to select the odd number of a list \n",
    "Sample Output \n",
    "[1,2,4,3,6,7,5,8,9,7,8,9,10] \n",
    "[1, 3, 7, 5, 9, 7, 9]"
   ]
  },
  {
   "cell_type": "code",
   "execution_count": 78,
   "id": "d95f5477",
   "metadata": {},
   "outputs": [
    {
     "name": "stdout",
     "output_type": "stream",
     "text": [
      "[1, 3, 7, 5, 9, 7, 9]\n"
     ]
    }
   ],
   "source": [
    "n=[1,2,4,3,6,7,5,8,9,7,8,9,10] \n",
    "a=[]\n",
    "for i in n:\n",
    "    if(i%2==1):\n",
    "        a.append(i)\n",
    "print(a)        \n",
    "        \n",
    "        \n",
    "    \n",
    "\n",
    "   "
   ]
  },
  {
   "cell_type": "code",
   "execution_count": null,
   "id": "3dab178b",
   "metadata": {},
   "outputs": [],
   "source": [
    "31. Write a Python Program to count unique values inside a list \n",
    "Sample Output \n",
    "[10, 20, 30, 50, 80, 70, 70, 80, 10] \n",
    "No of Unique Items in List : 6"
   ]
  },
  {
   "cell_type": "code",
   "execution_count": 79,
   "id": "9b1d251f",
   "metadata": {},
   "outputs": [
    {
     "name": "stdout",
     "output_type": "stream",
     "text": [
      "No of Unique Items in List : 6\n"
     ]
    }
   ],
   "source": [
    "a = [10, 20, 30, 50, 80, 70, 70, 80, 10]\n",
    "s = set(a)\n",
    "print(\"No of Unique Items in List :\", len(s))"
   ]
  },
  {
   "cell_type": "code",
   "execution_count": 80,
   "id": "c103ee44",
   "metadata": {},
   "outputs": [
    {
     "name": "stdout",
     "output_type": "stream",
     "text": [
      "No of Unique Items in List : 6\n"
     ]
    }
   ],
   "source": [
    "a = [10, 20, 30, 50, 80, 70, 70, 80, 10]\n",
    "l = []\n",
    "count = 0\n",
    "for i in a:\n",
    "\tif i not in l:\n",
    "\t\tcount += 1\n",
    "\t\tl.append(i)\n",
    " \n",
    "print(\"No of Unique Items in List :\", count)"
   ]
  },
  {
   "cell_type": "code",
   "execution_count": null,
   "id": "e87b0eb8",
   "metadata": {},
   "outputs": [],
   "source": [
    "32. Write a Python Program to List product excluding duplicates \n",
    "Sample Output \n",
    "[2, 1, 2, 4, 6, 4, 3, 2, 1] \n",
    "Duplication removal list product : 144"
   ]
  },
  {
   "cell_type": "code",
   "execution_count": 5,
   "id": "1de1d701",
   "metadata": {},
   "outputs": [
    {
     "name": "stdout",
     "output_type": "stream",
     "text": [
      "Duplication removal list product :  144\n"
     ]
    }
   ],
   "source": [
    "a=[2, 1, 2, 4, 6, 4, 3, 2, 1] \n",
    "b=list(set(a))\n",
    "p=1\n",
    "for i in b:\n",
    "    p*=i\n",
    " \n",
    "print (\"Duplication removal list product : \",p)"
   ]
  },
  {
   "cell_type": "code",
   "execution_count": null,
   "id": "d0cee370",
   "metadata": {},
   "outputs": [],
   "source": [
    "33. Write a Python Program to Extract elements with Frequency greater than K \n",
    "Sample Output \n",
    "[4, 6, 4, 3, 3, 4, 3, 7, 8, 8]"
   ]
  },
  {
   "cell_type": "code",
   "execution_count": 3,
   "id": "08308c12",
   "metadata": {},
   "outputs": [
    {
     "name": "stdout",
     "output_type": "stream",
     "text": [
      "The original list is: [4, 6, 4, 3, 3, 4, 3, 7, 8, 8]\n",
      "The required element: [4, 3]\n"
     ]
    }
   ],
   "source": [
    "test_list=[4,6,4,3,3,4,3,7,8,8]\n",
    "print(\"The original list is: \",test_list)\n",
    "k=2\n",
    "res=[]\n",
    "for i in test_list:\n",
    "    freq=test_list.count(i)\n",
    "    if freq>k and i not in res:\n",
    "        res.append(i)\n",
    "print(\"The required element: \",res)        \n"
   ]
  },
  {
   "cell_type": "code",
   "execution_count": null,
   "id": "c63d3dc9",
   "metadata": {},
   "outputs": [],
   "source": [
    "34. Write a Python Program to Test if List contains elements in Range \n",
    "Sample Output \n",
    "[4, 5, 6, 7, 3, 9] \n",
    "Does list contain all elements in range : True"
   ]
  },
  {
   "cell_type": "code",
   "execution_count": 4,
   "id": "40f1c8d6",
   "metadata": {},
   "outputs": [
    {
     "name": "stdout",
     "output_type": "stream",
     "text": [
      "The original list is :  [4, 5, 6, 7, 3, 9]\n",
      "Does list contain all elements in range :  True\n"
     ]
    }
   ],
   "source": [
    "test_list = [4, 5, 6, 7, 3, 9]\n",
    "\n",
    "print(\"The original list is : \", test_list)\n",
    " \n",
    "i, j = 3, 10\n",
    " \n",
    "res = all(ele >= i and ele < j for ele in test_list) \n",
    " \n",
    "print (\"Does list contain all elements in range : \",res)"
   ]
  },
  {
   "cell_type": "code",
   "execution_count": null,
   "id": "ab0c71fc",
   "metadata": {},
   "outputs": [],
   "source": [
    "35. Write a Python program to check if the list contains three consecutive common \n",
    "numbers in Python \n",
    "Sample Output \n",
    "[18, 18, 18, 6, 3, 4, 9, 9, 9] \n",
    "Three Consecutive common numbers = 18, 9"
   ]
  },
  {
   "cell_type": "code",
   "execution_count": 82,
   "id": "e6908ecd",
   "metadata": {},
   "outputs": [
    {
     "name": "stdout",
     "output_type": "stream",
     "text": [
      "18\n",
      "9\n"
     ]
    }
   ],
   "source": [
    "a = [18, 18, 18, 6, 3, 4, 9, 9, 9]\n",
    "l = len(a)\n",
    "for i in range(l - 2):\n",
    "    if a[i] == a[i + 1] and a[i + 1] == a[i + 2]:\n",
    "        print(a[i])"
   ]
  },
  {
   "cell_type": "code",
   "execution_count": null,
   "id": "9c438011",
   "metadata": {},
   "outputs": [],
   "source": [
    "36. Write a Python program to find the Strongest Neighbour \n",
    "Sample Output \n",
    "[10,20,30,20,30,400] \n",
    "20 30 30 30 400"
   ]
  },
  {
   "cell_type": "code",
   "execution_count": null,
   "id": "72ecab78",
   "metadata": {},
   "outputs": [],
   "source": [
    "37. Write a Python Program to print all Possible Combinations from the three Digits \n",
    "Sample Output \n",
    "[1, 2, 3] "
   ]
  },
  {
   "cell_type": "code",
   "execution_count": 83,
   "id": "8ee6008e",
   "metadata": {},
   "outputs": [
    {
     "name": "stdout",
     "output_type": "stream",
     "text": [
      "1 2 3\n",
      "1 3 2\n",
      "2 1 3\n",
      "2 3 1\n",
      "3 1 2\n",
      "3 2 1\n"
     ]
    }
   ],
   "source": [
    "a = [1, 2, 3]\n",
    "for i in range(3):\n",
    "    for j in range(3):\n",
    "        for k in range(3):\n",
    "            if (i!=j and j!=k and i!=k):\n",
    "                print(a[i], a[j], a[k])"
   ]
  },
  {
   "cell_type": "code",
   "execution_count": null,
   "id": "a2841672",
   "metadata": {},
   "outputs": [],
   "source": [
    "38. Write a Python program to find all the Combinations in the list with the given condition \n",
    "Sample Output \n",
    "['Tutor Joes', ['Software', 'Computer'], ['Solution', 'Education']] \n",
    "[ ['Tutor Joes', 'Software', 'Solution'], ['Tutor Joes', 'Computer', 'Education'] ] "
   ]
  },
  {
   "cell_type": "code",
   "execution_count": null,
   "id": "c4857361",
   "metadata": {},
   "outputs": [],
   "source": [
    "39. Write a Python program to get all unique combinations of two Lists \n",
    "Sample Output \n",
    "['A','B','C'] \n",
    "[1,2,3]"
   ]
  },
  {
   "cell_type": "code",
   "execution_count": 1,
   "id": "91969791",
   "metadata": {},
   "outputs": [
    {
     "name": "stdout",
     "output_type": "stream",
     "text": [
      "[('a', 1), ('a', 2), ('a', 3), ('b', 1), ('b', 2), ('b', 3), ('c', 1), ('c', 2), ('c', 3)]\n"
     ]
    }
   ],
   "source": [
    "list_1 = [\"a\", \"b\", \"c\"]\n",
    "list_2 = [1, 2, 3]\n",
    " \n",
    "unique_combinations = []\n",
    " \n",
    "for i in range(len(list_1)):\n",
    "    for j in range(len(list_2)):\n",
    "        unique_combinations.append((list_1[i], list_2[j]))\n",
    " \n",
    "print(unique_combinations)"
   ]
  },
  {
   "cell_type": "code",
   "execution_count": null,
   "id": "d0dc94ea",
   "metadata": {},
   "outputs": [],
   "source": [
    "40. Write a Python program to remove all the occurrences of an element from a list \n",
    "Sample Output \n",
    "[1, 3, 4, 6, 5, 1] \n",
    "[3, 4, 6, 5]"
   ]
  },
  {
   "cell_type": "code",
   "execution_count": 13,
   "id": "71c20b6c",
   "metadata": {},
   "outputs": [
    {
     "data": {
      "text/plain": [
       "[3, 4, 6, 5, 1]"
      ]
     },
     "execution_count": 13,
     "metadata": {},
     "output_type": "execute_result"
    }
   ],
   "source": [
    "a=[1, 3, 4, 6, 5, 1]\n",
    "for i in a:\n",
    "    b=a.count(i)\n",
    "    if b>1:\n",
    "        a.remove(i)\n",
    "a        \n",
    "        \n",
    "    \n"
   ]
  },
  {
   "cell_type": "code",
   "execution_count": 14,
   "id": "886379a0",
   "metadata": {},
   "outputs": [
    {
     "name": "stdout",
     "output_type": "stream",
     "text": [
      "Original list : [1, 3, 4, 6, 5, 1]\n",
      "Remove operation : [3, 4, 6, 5]\n"
     ]
    }
   ],
   "source": [
    "val = [1, 3, 4, 6, 5, 1]\n",
    "a = 1\n",
    "print (\"Original list :\" ,val)\n",
    "c = val.count(a)\n",
    "for i in range(c):\n",
    "    val.remove(a)\n",
    "print (\"Remove operation :\" , val)"
   ]
  },
  {
   "cell_type": "code",
   "execution_count": null,
   "id": "66028a57",
   "metadata": {},
   "outputs": [],
   "source": [
    "41. Write a Python Program to Remove Consecutive K element records"
   ]
  },
  {
   "cell_type": "code",
   "execution_count": null,
   "id": "c036897c",
   "metadata": {},
   "outputs": [],
   "source": [
    "42. Write a Python Program to Replace index elements with elements in Other List \n",
    "Sample Output \n",
    "['Tutor Joes', 'Computer', 'Education'] \n",
    "[2, 1, 0, 1, 0, 2, 2, 0, 1, 0, 1, 2] \n",
    "['Education', 'Computer', 'Tutor Joes', 'Computer', 'Tutor Joes', 'Education', 'Education', 'Tutor \n",
    "Joes', 'Computer', 'Tutor Joes', 'Computer', 'Education']"
   ]
  },
  {
   "cell_type": "code",
   "execution_count": 15,
   "id": "9f173449",
   "metadata": {},
   "outputs": [
    {
     "name": "stdout",
     "output_type": "stream",
     "text": [
      "List 1 :  ['Tutor Joes', 'Computer', 'Education']\n",
      "List 2 :  [2, 1, 0, 1, 0, 2, 2, 0, 1, 0, 1, 2]\n",
      "After Index Elements Replacements is :  ['Education', 'Computer', 'Tutor Joes', 'Computer', 'Tutor Joes', 'Education', 'Education', 'Tutor Joes', 'Computer', 'Tutor Joes', 'Computer', 'Education']\n"
     ]
    }
   ],
   "source": [
    "a = ['Tutor Joes', 'Computer', 'Education']\n",
    "b = [2 ,1 ,0 ,1 ,0 ,2 ,2 ,0 ,1 ,0 ,1 ,2]\n",
    "print(\"List 1 : \" , a)\n",
    "print(\"List 2 : \" , b)\n",
    "res = [a[i] for i in b]\n",
    " \n",
    "print (\"After Index Elements Replacements is : \" ,res)"
   ]
  },
  {
   "cell_type": "code",
   "execution_count": null,
   "id": "022e6609",
   "metadata": {},
   "outputs": [],
   "source": [
    "43. Write a Python Program to Retain records with N occurrences of K"
   ]
  },
  {
   "cell_type": "code",
   "execution_count": 16,
   "id": "03b1746d",
   "metadata": {},
   "outputs": [
    {
     "name": "stdout",
     "output_type": "stream",
     "text": [
      "[(4, 5, 6, 5, 4), (4, 5, 3), (5, 5, 2), (3, 4, 9)]\n",
      "[(4, 5, 6, 5, 4), (5, 5, 2)]\n"
     ]
    }
   ],
   "source": [
    "val = [(4, 5, 6, 5, 4), (4, 5, 3), (5, 5, 2), (3, 4, 9)]\n",
    "print(val)\n",
    "K = 5\n",
    "N = 2\n",
    "res = [e for e in val if e.count(K) == N]\n",
    " \n",
    "print(res)"
   ]
  },
  {
   "cell_type": "code",
   "execution_count": null,
   "id": "b251fa3d",
   "metadata": {},
   "outputs": [],
   "source": [
    "44. Write a Python Program to Swap elements in String list \n",
    "Sample Output "
   ]
  },
  {
   "cell_type": "code",
   "execution_count": 17,
   "id": "de196048",
   "metadata": {},
   "outputs": [
    {
     "name": "stdout",
     "output_type": "stream",
     "text": [
      "Before Swap : ['Tutor', 'joes', 'Computer', 'Education']\n",
      "After Swap :  ['Tutor', \"Joe's\", 'Software', 'Solutions']\n"
     ]
    }
   ],
   "source": [
    "s = [\"Tutor\",\"joes\",\"Computer\",\"Education\"]\n",
    " \n",
    "print(\"Before Swap :\",s)\n",
    " \n",
    "res = [sub.replace(\"joes\",\"Joe's\").replace(\"Computer\", \"Software\").replace(\"Education\", \"Solutions\") for sub in s]\n",
    " \n",
    "print (\"After Swap : \",res)"
   ]
  },
  {
   "cell_type": "code",
   "execution_count": null,
   "id": "c91fbb69",
   "metadata": {},
   "outputs": [],
   "source": [
    "45. Write a Python program to reverse All Strings in String List"
   ]
  },
  {
   "cell_type": "code",
   "execution_count": 19,
   "id": "2ba436e6",
   "metadata": {},
   "outputs": [
    {
     "name": "stdout",
     "output_type": "stream",
     "text": [
      "Reversed list : ['Education', 'Computer', 'joes', 'Tutor']\n"
     ]
    }
   ],
   "source": [
    "Original_list = ['Tutor', 'joes', 'Computer', 'Education']\n",
    "print(\"Reversed list :\",Original_list[::-1])"
   ]
  },
  {
   "cell_type": "code",
   "execution_count": 21,
   "id": "ef170e66",
   "metadata": {},
   "outputs": [
    {
     "name": "stdout",
     "output_type": "stream",
     "text": [
      "Reversed list :  ['rotuT', 'seoj', 'retupmoC', 'noitacudE']\n"
     ]
    }
   ],
   "source": [
    "Original_list = ['Tutor', 'joes', 'Computer', 'Education']\n",
    "res = [i[::-1] for i in Original_list]\n",
    "print (\"Reversed list : \" , res)\n",
    " "
   ]
  }
 ],
 "metadata": {
  "kernelspec": {
   "display_name": "Python 3 (ipykernel)",
   "language": "python",
   "name": "python3"
  },
  "language_info": {
   "codemirror_mode": {
    "name": "ipython",
    "version": 3
   },
   "file_extension": ".py",
   "mimetype": "text/x-python",
   "name": "python",
   "nbconvert_exporter": "python",
   "pygments_lexer": "ipython3",
   "version": "3.9.7"
  }
 },
 "nbformat": 4,
 "nbformat_minor": 5
}
