{
 "cells": [
  {
   "cell_type": "code",
   "execution_count": null,
   "id": "ad5c408a",
   "metadata": {},
   "outputs": [],
   "source": [
    "IF STATEMENT \n",
    "1. Write a program that reads an integer from the user. Then your \n",
    "program should display a message indicating whether the integer is \n",
    "even or odd."
   ]
  },
  {
   "cell_type": "code",
   "execution_count": 2,
   "id": "447402ea",
   "metadata": {},
   "outputs": [
    {
     "name": "stdout",
     "output_type": "stream",
     "text": [
      "Enter the number22\n",
      "even\n"
     ]
    }
   ],
   "source": [
    "num=int(input(\"Enter the number -\"))\n",
    "if num%2==0:\n",
    "    print(\"even\")\n",
    "else:\n",
    "    print(\"odd\")"
   ]
  },
  {
   "cell_type": "code",
   "execution_count": null,
   "id": "faa75d8b",
   "metadata": {},
   "outputs": [],
   "source": [
    "3. Create a program that reads a letter of the alphabet from the user. If the \n",
    "user enters a, e, i, o or u then your program should display a message \n",
    "indicating that the entered letter is a vowel. If the user enters y then \n",
    "your program should display a message indicating that sometimes y is a \n",
    "vowel, and sometimes y is a consonant. Otherwise your program should \n",
    "display a message indicating that the letter is a consonant."
   ]
  },
  {
   "cell_type": "code",
   "execution_count": 10,
   "id": "555f4077",
   "metadata": {},
   "outputs": [
    {
     "name": "stdout",
     "output_type": "stream",
     "text": [
      "Enter the letter from the alphabet - b\n",
      " The letter is a Consonant b\n"
     ]
    }
   ],
   "source": [
    "l=input(\"Enter the letter from the alphabet - \")\n",
    "if l in('a','e','i','o','u'):\n",
    "    print(\"The letter is a vowel\",l)\n",
    "elif l=='y':\n",
    "    print(\"sometimes y is vowel and sometimes y is consonant\")\n",
    "else:\n",
    "    print(\" The letter is a Consonant\",l)"
   ]
  },
  {
   "cell_type": "code",
   "execution_count": null,
   "id": "afb4af23",
   "metadata": {},
   "outputs": [],
   "source": [
    "4. Write a program that determines the name of a shape from its number \n",
    "of sides. Read the number of sides from the user and then report the \n",
    "appropriate name as part of a meaningful message. Your program \n",
    "should support shapes with anywhere from 3 up to (and including) 10 \n",
    "sides. If a number of sides outside of this range is entered then your \n",
    "program should display an appropriate error message. "
   ]
  },
  {
   "cell_type": "code",
   "execution_count": 12,
   "id": "90447fe4",
   "metadata": {},
   "outputs": [
    {
     "name": "stdout",
     "output_type": "stream",
     "text": [
      "Enter the number of side -11\n",
      "That number of sides is not supported by this program.\n"
     ]
    }
   ],
   "source": [
    "nsides=int(input(\"Enter the number of side -\"))\n",
    "name = \"\"\n",
    "if nsides == 3:\n",
    "   name = \"triangle\"\n",
    "elif nsides == 4:\n",
    "   name = \"square\"\n",
    "elif nsides == 5:\n",
    "   name = \"pentagon\"\n",
    "elif nsides == 6:\n",
    "   name = \"hexagon\"\n",
    "elif nsides == 7:\n",
    "   name = \"heptagon\"\n",
    "elif nsides == 8:\n",
    "   name = \"octagon\"\n",
    "elif nsides == 9:\n",
    "   name = \"nonagon\"\n",
    "elif nsides == 10:\n",
    "   name = \"decagon\"\n",
    "\n",
    "if name == \"\":\n",
    "   print (\"That number of sides is not supported by this program.\")\n",
    "else :\n",
    "   print (\"That is  a\", name)\n"
   ]
  },
  {
   "cell_type": "code",
   "execution_count": null,
   "id": "c96fa45b",
   "metadata": {},
   "outputs": [],
   "source": [
    "5. The length of a month varies from 28 to 31 days. In this exercise you \n",
    "will create a program that reads the name of a month from the user as a \n",
    "string. Then your program should display the number of days in that \n",
    "month. Display “28 or 29 days” for February so that leap years are \n",
    "addressed."
   ]
  },
  {
   "cell_type": "code",
   "execution_count": 15,
   "id": "1afe52de",
   "metadata": {},
   "outputs": [
    {
     "name": "stdout",
     "output_type": "stream",
     "text": [
      "Enter the name of a monthjuly\n",
      "july has 31 days in it.\n"
     ]
    }
   ],
   "source": [
    "month=input(\"Enter the name of a month\")\n",
    "days=31\n",
    "if month==\"April\" or month==\"June\" or month==\"sepetember\" or month==\"November\":\n",
    "    days=30\n",
    "elif month==\"february\":\n",
    "    days=\"28 or 29\"\n",
    "print (month, \"has\", days, \"days in it.\")    "
   ]
  },
  {
   "cell_type": "code",
   "execution_count": null,
   "id": "203440e6",
   "metadata": {},
   "outputs": [],
   "source": [
    "6. The following table lists the sound level in decibels for several common \n",
    "noises. \n",
    " \n",
    "Noise Decibel level (dB) \n",
    "Jackhammer 130 \n",
    "Gas lawnmower 106 \n",
    "Alarm clock 70 \n",
    "Quiet room 40 \n",
    " \n",
    "Write a program that reads a sound level in decibels from the user. If the user \n",
    "enters a decibel level that matches one of the noises in the table then your \n",
    "program should display a message containing only that noise. If the user \n",
    " \n",
    "enters a number of decibels between the noises listed then your program \n",
    "should display a message indicating which noises the level is between. Ensure \n",
    "that your program also generates reasonable output for a value smaller than \n",
    "the quietest noise in the table, and for a value larger than the loudest noise in \n",
    "the table. "
   ]
  },
  {
   "cell_type": "code",
   "execution_count": 18,
   "id": "6e5e3a40",
   "metadata": {},
   "outputs": [
    {
     "name": "stdout",
     "output_type": "stream",
     "text": [
      "Enter the number of decibels: 30\n",
      "quieter than a quiet room.\n"
     ]
    }
   ],
   "source": [
    "decibels = int(input(\"Enter the number of decibels: \"))\n",
    "if decibels > 0 and decibels < 40:\n",
    "    print('quieter than a quiet room.')\n",
    "elif decibels == 40:\n",
    "    print('about the same as a quiet room.')\n",
    "elif decibels > 40 and decibels < 70:\n",
    "    print('quieter than an alarm clock.')\n",
    "elif decibels == 70:\n",
    "    print('about the same as an alarm clock.')\n",
    "elif decibels > 70 and decibels < 106:\n",
    "    print('quieter than a lawn mower.')\n",
    "elif decibels == 106:\n",
    "    ('about the same as a lawn mower.')\n",
    "elif decibels > 106 and decibels < 130:\n",
    "    print(\" quieter than a jackhammer.\")\n",
    "elif decibels == 130:\n",
    "    print('about the same as a jackhammer.')\n",
    "elif decibels > 130:\n",
    "    print('way too loud.')\n",
    "else:\n",
    "    print('Please enter a correct data value.')\n",
    "\n"
   ]
  }
 ],
 "metadata": {
  "kernelspec": {
   "display_name": "Python 3 (ipykernel)",
   "language": "python",
   "name": "python3"
  },
  "language_info": {
   "codemirror_mode": {
    "name": "ipython",
    "version": 3
   },
   "file_extension": ".py",
   "mimetype": "text/x-python",
   "name": "python",
   "nbconvert_exporter": "python",
   "pygments_lexer": "ipython3",
   "version": "3.9.7"
  }
 },
 "nbformat": 4,
 "nbformat_minor": 5
}
