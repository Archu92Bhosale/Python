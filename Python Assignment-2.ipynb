{
 "cells": [
  {
   "cell_type": "code",
   "execution_count": 2,
   "id": "7a5f5906",
   "metadata": {},
   "outputs": [
    {
     "name": "stdout",
     "output_type": "stream",
     "text": [
      "Enter the basic salary : 15000\n",
      "Gross salary :  24000.0\n"
     ]
    }
   ],
   "source": [
    "###Task -I \n",
    "#1. Ramesh's basic salary is input through the keyboard. His dearness allowance is 40% of \n",
    "#basic salary, and house rent allowance is 20% of basic salary. Write a program to calculate \n",
    "#his gross salary.\n",
    "basic_salary=int(input(\"Enter the basic salary : \"))\n",
    "DA=0.4*basic_salary\n",
    "HRA=0.2*basic_salary\n",
    "Gross_salary=basic_salary+DA+HRA\n",
    "print(\"Gross salary : \",Gross_salary)"
   ]
  },
  {
   "cell_type": "code",
   "execution_count": 3,
   "id": "67921876",
   "metadata": {},
   "outputs": [
    {
     "name": "stdout",
     "output_type": "stream",
     "text": [
      "Enter the distance in km : 14\n",
      "kilometer  : 14.0\n",
      "meter : 14000.0\n",
      "centimeter : 1400000.0\n",
      "inches : 551181.1023622047\n",
      "feet : 45931.758530183724\n"
     ]
    }
   ],
   "source": [
    "#2. The distance between two cities (in km.) is input through the keyboard. Write a program \n",
    "#to convert and print this distance in meters, feet, inches and centimeters. \n",
    "km=float(input(\"Enter the distance in km : \"))\n",
    "m=km*1000\n",
    "cm=m*100\n",
    "i=cm/2.54\n",
    "ft=i/12\n",
    "print(\"kilometer  :\",km)\n",
    "print(\"meter :\",m)\n",
    "print(\"centimeter :\",cm)\n",
    "print(\"inches :\",i)\n",
    "print(\"feet :\",ft)"
   ]
  },
  {
   "cell_type": "code",
   "execution_count": 6,
   "id": "8d5498e2",
   "metadata": {},
   "outputs": [
    {
     "name": "stdout",
     "output_type": "stream",
     "text": [
      "Enter the mark1 :-76\n",
      "Enter the mark2 :-87\n",
      "Enter the mark3 :-97\n",
      "Enter the mark4 :-88\n",
      "Enter the mark5 :-78\n",
      " The aggregate marks : 426\n",
      "The percentage marks  : 85.2\n"
     ]
    }
   ],
   "source": [
    "#3. If the marks obtained by a student in five different subjects are input through the \n",
    "#keyboard, find out the aggregate marks and percentage marks obtained by the student. \n",
    "#Assume that the maximum marks that can be obtained by a student in each subject is 100.\n",
    "sub_m1=int(input(\"Enter the mark1 :-\"))\n",
    "sub_m2=int(input(\"Enter the mark2 :-\"))\n",
    "sub_m3=int(input(\"Enter the mark3 :-\"))\n",
    "sub_m4=int(input(\"Enter the mark4 :-\"))\n",
    "sub_m5=int(input(\"Enter the mark5 :-\"))\n",
    "total=sub_m1+sub_m2+sub_m3+sub_m4+sub_m5\n",
    "per=total/5\n",
    "print(\" The aggregate marks :\",total)\n",
    "print(\"The percentage marks  :\",per)\n"
   ]
  },
  {
   "cell_type": "code",
   "execution_count": 8,
   "id": "036a60d5",
   "metadata": {},
   "outputs": [
    {
     "name": "stdout",
     "output_type": "stream",
     "text": [
      "Enter the Temperature:37\n",
      "Temparture in Centigrade= 2.7777777777777777\n"
     ]
    }
   ],
   "source": [
    "#4. Temperature of a city in Fahrenheit degrees is input through the keyboard. Write a \n",
    "#program to convert this temperature into Centigrade degrees.\n",
    "fr=float(input(\"Enter the Temperature:\"))\n",
    "cent=5.0/9.0*(fr-32)\n",
    "print(\"Temparture in Centigrade=\",cent)"
   ]
  },
  {
   "cell_type": "code",
   "execution_count": 10,
   "id": "d32ca1ed",
   "metadata": {},
   "outputs": [
    {
     "name": "stdout",
     "output_type": "stream",
     "text": [
      "Enter the Lenth of rectangle:24\n",
      "Enter the Breadth of rectangle:22\n",
      "Enter the Redius of Circle:23\n",
      "Area of Rectangle = 528\n",
      "Perimeter of Rectangle = 92\n",
      "Area of Circle = 1661.06\n",
      "Circum of Circle = 144.44\n"
     ]
    }
   ],
   "source": [
    "#The length & breadth of a rectangle and radius of a circle are input through the \n",
    "#keyboard. Write a program to calculate the area & perimeter of the rectangle, and the area \n",
    "#& circumference of the circle.\n",
    "\n",
    "#Area of Rectangle=l*b\n",
    "#Perimeter of Rectangle=2*(l+b)\n",
    "#Area of Circule=PI*r*r(PI=3.14)\n",
    "#circum of a Circule=2*PI*r\n",
    "\n",
    "\n",
    "len=int(input(\"Enter the Lenth of rectangle:\"))\n",
    "bre=int(input(\"Enter the Breadth of rectangle:\"))\n",
    "r=int(input(\"Enter the Redius of Circle:\"))\n",
    "area1=len*bre\n",
    "perimeter=2*(len+bre)\n",
    "area2=3.14*r*r\n",
    "circum=2*3.14*r\n",
    "print(\"Area of Rectangle =\",area1)\n",
    "print(\"Perimeter of Rectangle =\",perimeter)\n",
    "print(\"Area of Circle =\",area2)\n",
    "print(\"Circum of Circle =\",circum)"
   ]
  },
  {
   "cell_type": "code",
   "execution_count": 11,
   "id": "35e63c73",
   "metadata": {},
   "outputs": [
    {
     "name": "stdout",
     "output_type": "stream",
     "text": [
      "Enter the value of c :10\n",
      "Enter the value of d :20\n",
      "the value of c : 20\n",
      "the value of d : 10\n"
     ]
    }
   ],
   "source": [
    "#6. Two numbers are input through the keyboard into two locations C and D. Write a \n",
    "#program to interchange the contents of C and D.\n",
    "\n",
    "c= int(input(\"Enter the value of c :\"))\n",
    "d= int(input(\"Enter the value of d :\"))\n",
    "a=c\n",
    "c=d\n",
    "d=a\n",
    "print(\"the value of c :\",c)\n",
    "print(\"the value of d :\",d)\n",
    "\n"
   ]
  },
  {
   "cell_type": "code",
   "execution_count": 13,
   "id": "f569b2d1",
   "metadata": {},
   "outputs": [
    {
     "name": "stdout",
     "output_type": "stream",
     "text": [
      "Enter the five digits Number :12345\n",
      "sum of the Digits =  15\n"
     ]
    }
   ],
   "source": [
    "#7. If a five-digit number is input through the keyboard, write a program to calculate the \n",
    "#sum of its digits. ( Hint: Use the modulus operator '%')\n",
    "num=int(input(\"Enter the five digits Number :\"))\n",
    "sum=0\n",
    "a=num%10\n",
    "n=num//10\n",
    "sum=sum+a\n",
    " \n",
    "a=n%10\n",
    "n=n//10\n",
    "sum=sum+a\n",
    " \n",
    "a=n%10\n",
    "n=n//10\n",
    "sum=sum+a\n",
    " \n",
    "a=n%10\n",
    "n=n//10\n",
    "sum=sum+a\n",
    " \n",
    "a=n%10\n",
    "sum=sum+a;\n",
    "print(\"sum of the Digits = \",sum)\n"
   ]
  },
  {
   "cell_type": "code",
   "execution_count": 15,
   "id": "cd0e6157",
   "metadata": {},
   "outputs": [
    {
     "name": "stdout",
     "output_type": "stream",
     "text": [
      "Enter the four Digits Number :2345\n",
      "Sum of First and Last digits = 7\n"
     ]
    }
   ],
   "source": [
    "#9. If a four-digit number is input through the keyboard, write a program to obtain the sum \n",
    "#of the first and last digit of this number.\n",
    "n=int(input(\"Enter the four Digits Number :\"))\n",
    "sum=0\n",
    "a=n//1000\n",
    "sum=sum+a\n",
    "a=n%10\n",
    "sum=sum+a\n",
    "print(\"Sum of First and Last digits =\",sum)"
   ]
  },
  {
   "cell_type": "code",
   "execution_count": 17,
   "id": "7369afa5",
   "metadata": {},
   "outputs": [
    {
     "name": "stdout",
     "output_type": "stream",
     "text": [
      "Total Population          :  80000\n",
      "Total Mens                :  41600.0\n",
      "Total Womens              :  38400.0\n",
      "Total Literacy            :  38400.0\n",
      "Total Literacy Mens       :  14560.0\n",
      "Total Literacy Womens     :  23840.0\n",
      "Total Not Literacy Mens   :  27040.0\n",
      "Total Not Literacy Womens :  14560.0\n"
     ]
    }
   ],
   "source": [
    "#10. In a town, the percentage of men is 52. The percentage of total literacy is 48. If total \n",
    "#percentage of literate men is 35 of the total population, write a program to find the total \n",
    "#number of illiterate men and women if the population of the town is 80,000\n",
    "pop=80000\n",
    "popmen=(52*pop)/100\n",
    "popwomen=pop-popmen\n",
    "poplit=(48*pop)/100\n",
    "litmen=(35*popmen)/100\n",
    "litwomen= poplit-litmen\n",
    "unlitmen=popmen-litmen\n",
    "unlitwomen=popwomen-litwomen\n",
    "print(\"Total Population          : \",pop)\n",
    "print(\"Total Mens                : \",popmen)\n",
    "print(\"Total Womens              : \",popwomen)\n",
    "print(\"Total Literacy            : \",poplit)\n",
    "print(\"Total Literacy Mens       : \",litmen)\n",
    "print(\"Total Literacy Womens     : \",litwomen)\n",
    "print(\"Total Not Literacy Mens   : \",unlitmen)\n",
    "print(\"Total Not Literacy Womens : \",unlitwomen)"
   ]
  },
  {
   "cell_type": "code",
   "execution_count": 20,
   "id": "225490ae",
   "metadata": {},
   "outputs": [
    {
     "name": "stdout",
     "output_type": "stream",
     "text": [
      "Enter the Amount to be Withdrawn :74510\n",
      "No of Hundred Notes : 745\n",
      "No of Fifty Notes : 0\n",
      "No of Ten Notes : 1\n"
     ]
    }
   ],
   "source": [
    "#11. A cashier has currency notes of denominations 10, 50 and 100. If the amount to be \n",
    "#withdrawn is input through the keyboard in hundreds, find the total number of currency \n",
    "#notes of each denomination the cashier will have to give to the withdrawer.\n",
    "amount = int(input(\"Enter the Amount to be Withdrawn :\"))\n",
    "hundred = amount//100\n",
    "amount = amount%100\n",
    "fifty = amount//50\n",
    "amount = amount%50\n",
    "ten = amount//10\n",
    "print(\"No of Hundred Notes :\",hundred)\n",
    "print(\"No of Fifty Notes :\",fifty)\n",
    "print(\"No of Ten Notes :\",ten)"
   ]
  },
  {
   "cell_type": "code",
   "execution_count": 21,
   "id": "90f185b4",
   "metadata": {},
   "outputs": [
    {
     "name": "stdout",
     "output_type": "stream",
     "text": [
      "Enter the Selling Price :3000\n",
      "Enter the Profit :600\n",
      "Cost Price of Per Item : 160.0\n"
     ]
    }
   ],
   "source": [
    "#12. If the total selling price of 15 items and the total profit earned on them is input through \n",
    "#the keyboard, write a program to find the cost price of one item.\n",
    "selling_price = float(input(\"Enter the Selling Price :\"))\n",
    "profit = float(input(\"Enter the Profit :\"))\n",
    "cost_price = selling_price - profit\n",
    "cost_price = cost_price // 15\n",
    "print(\"Cost Price of Per Item :\",cost_price)"
   ]
  },
  {
   "cell_type": "code",
   "execution_count": null,
   "id": "396037a5",
   "metadata": {},
   "outputs": [],
   "source": [
    "#13. If a five-digit number is input through the keyboard, write a program to print a new \n",
    "#number by adding one to each of its digits. For example, if the number that is input is \n",
    "#12391 then the output should be displayed as 23402."
   ]
  },
  {
   "cell_type": "code",
   "execution_count": 22,
   "id": "c3ad3ecd",
   "metadata": {},
   "outputs": [
    {
     "name": "stdout",
     "output_type": "stream",
     "text": [
      "Enter the quantity : 60\n",
      "Enter the price :100\n",
      "Total expenses : 5400.0\n"
     ]
    }
   ],
   "source": [
    "#Task -II \n",
    "#1. While purchasing certain items, a discount of 10% is offered if the quantity purchased is \n",
    "#more than 10. If quantity and price per item are input through the keyboard, write a \n",
    "#program to calculate the total expenses.\n",
    "quantity=int(input(\"Enter the quantity : \"))\n",
    "price=float(input(\"Enter the price :\" ))\n",
    "if(quantity>10):\n",
    "    total=quantity*price\n",
    "    total=total-(total*0.1)\n",
    "else:\n",
    "    total=quantity*price\n",
    "print(\"Total expenses :\", total)    \n",
    "    \n",
    "\n",
    "\n",
    "\n",
    "\n"
   ]
  },
  {
   "cell_type": "code",
   "execution_count": 23,
   "id": "cd104a4a",
   "metadata": {},
   "outputs": [
    {
     "name": "stdout",
     "output_type": "stream",
     "text": [
      "Enter the current year :2023\n",
      "Enter the joining year : 2018\n",
      "Bonus of RS. 2500/-\n"
     ]
    }
   ],
   "source": [
    "#2. The current year and the year in which the employee joined the organization are entered \n",
    "#hrough the keyboard. If the number of years for which the employee has served the \n",
    "#organization is greater than 3 then a bonus of Rs. 2500/- is given to the employee. If the \n",
    "#ears of service are not greater than 3, then the program should do nothing.\n",
    "current_year=int(input(\"Enter the current year :\"))\n",
    "join_year=int(input(\"Enter the joining year : \"))\n",
    "difference=current_year-join_year\n",
    "if(difference>3):\n",
    "    print(\"Bonus of RS. 2500/-\")\n",
    "else:\n",
    "    print(\"No Bonus\")\n"
   ]
  },
  {
   "cell_type": "code",
   "execution_count": 24,
   "id": "43795010",
   "metadata": {},
   "outputs": [
    {
     "name": "stdout",
     "output_type": "stream",
     "text": [
      "Enter the basic salary of employee :1550\n",
      "Gross salary of employee is : 3569.0\n"
     ]
    }
   ],
   "source": [
    "#3. If his basic salary is less than Rs. 1500, then HRA = 10% of basic salary and DA = 90% of \n",
    "#basic salary. If his salary is either equal to or above Rs. 1500, then HRA = Rs. 500 and DA = \n",
    "#98% of basic salary. If the employee's salary is input through the keyboard write a program \n",
    "#to find his gross salary\n",
    "basic_salary=float(input(\"Enter the basic salary of employee :\"))\n",
    "if(basic_salary<1500):\n",
    "    HRA=basic_salary*0.1\n",
    "    DA=basic_salary*0.9\n",
    "else:\n",
    "    HRA=500\n",
    "    DA=basic_salary*0.98\n",
    "gross_salary=basic_salary+HRA+DA\n",
    "print(\"Gross salary of employee is :\",gross_salary)"
   ]
  },
  {
   "cell_type": "code",
   "execution_count": 25,
   "id": "be2c3b82",
   "metadata": {},
   "outputs": [
    {
     "name": "stdout",
     "output_type": "stream",
     "text": [
      "Enter the Mark Subject 1 :56\n",
      "Enter the Mark Subject 2 :87\n",
      "Enter the Mark Subject 3 :55\n",
      "Enter the Mark Subject 4 :44\n",
      "Enter the Mark Subject 5 :87\n",
      "Total : 329\n",
      "Percentage : 65.8\n",
      "First Division..\n"
     ]
    }
   ],
   "source": [
    "#4. The marks obtained by a student in 5 different subjects are input through the keyboard. \n",
    "#The student gets a division as per the following rules: Write a program to calculate the \n",
    "#division obtained by the student. \n",
    "#a. Percentage above or equal to 60 - First division \n",
    "#b. Percentage between 50 and 59 - Second division \n",
    "#c. Percentage between 40 and 49 - Third division \n",
    "#d. Percentage less than 40 – Fail\n",
    "m1=int(input(\"Enter the Mark Subject 1 :\"))\n",
    "m2=int(input(\"Enter the Mark Subject 2 :\"))\n",
    "m3=int(input(\"Enter the Mark Subject 3 :\"))\n",
    "m4=int(input(\"Enter the Mark Subject 4 :\"))\n",
    "m5=int(input(\"Enter the Mark Subject 5 :\"))\n",
    "total=m1+m2+m3+m4+m5\n",
    "per=total/5\n",
    "print(\"Total :\",total)\n",
    "print(\"Percentage :\",per)\n",
    "if(per>=60):\n",
    "    print(\"First Division..\")\n",
    "elif(per>=50 and per<=59):\n",
    "    print(\"Second Division..\")\n",
    "elif(per>=40 and per<=49):\n",
    "    print(\"Third Division..\")\n",
    "else:\n",
    "    print(\"Fail..\")"
   ]
  },
  {
   "cell_type": "code",
   "execution_count": 26,
   "id": "2dfab7e7",
   "metadata": {},
   "outputs": [
    {
     "name": "stdout",
     "output_type": "stream",
     "text": [
      "Enter the Age :31\n",
      "Enter the Gender M/F :m\n",
      "Enter the Marital Status U/M :m\n",
      "Driver should be Insured\n"
     ]
    }
   ],
   "source": [
    "#5. A company insures its drivers in the following cases: \n",
    "#a. If the driver is married. \n",
    "#b. If the driver is unmarried, male & above 30 years of age. \n",
    "#c. If the driver is unmarried, female & above 25 years of age.\n",
    "age = int(input(\"Enter the Age :\"))\n",
    "sex = input(\"Enter the Gender M/F :\")\n",
    "status = input(\"Enter the Marital Status U/M :\")\n",
    "if( status == 'M' or status == 'm'):\n",
    "    print( \"Driver should be Insured\" )\n",
    "elif( status == 'U' and sex == 'M' and age > 30 or status == 'u' and sex == 'm' and age > 30 ):\n",
    "    print( \"Driver should be Insured\" )\n",
    "elif( status == 'U' and sex == 'F' and age > 25 or status == 'u' and sex == 'f' and age > 25 ):\n",
    "    print( \"Driver should be Insured\" )\n",
    "else:\n",
    "    print( \"Driver should not be Insured\" )"
   ]
  },
  {
   "cell_type": "markdown",
   "id": "3cb8b009",
   "metadata": {},
   "source": [
    "6. Write a program to calculate the salary as per the following table: \n",
    "Gender Year of Service Qualifications Salary \n",
    "Male >= 10 Post - Graduate 15000 \n",
    ">= 10 Graduate 10000 \n",
    "< 10 Post - Graduate 10000 \n",
    "< 10 Graduate 7000 \n",
    "Female >= 10 Post - Graduate 12000 \n",
    ">= 10 Graduate 9000 \n",
    "< 10 Post - Graduate 10000 \n",
    "< 10 Graduate 6000"
   ]
  },
  {
   "cell_type": "code",
   "execution_count": 32,
   "id": "48662d61",
   "metadata": {},
   "outputs": [
    {
     "name": "stdout",
     "output_type": "stream",
     "text": [
      "Enter the Gender f/m :f\n",
      "Enter the year of service10\n",
      "Enter the qualification (graduate(0)),(post-graduate(1))1\n",
      "salary : 10000\n"
     ]
    }
   ],
   "source": [
    "gen=input(\"Enter the Gender f/m :\")\n",
    "yos=int(input(\"Enter the year of service\"))\n",
    "qual=int(input(\"Enter the qualification (graduate(0)),(post-graduate(1))\"))\n",
    "if(gen=='m' and yos>=10 and qual==1):\n",
    "    salary=15000\n",
    "    print(\"salary :\",salary)\n",
    "elif(gen=='m' and yos>=10 and qual==0) or (gen=='m' and yos<=10 and qual==1) or(gen=='f' and yos<=10 and qual==1):\n",
    "    salary=10000\n",
    "    print(\"salary :\",salary)\n",
    "elif( gen=='m' and yos<10 and qual==0):\n",
    "    salary = 7000\n",
    "    print(\"Salary : \" , salary)\n",
    "elif( gen=='f' and yos>=10 and qual==1):\n",
    "    salary = 12000\n",
    "    print(\"Salary : \" , salary)\n",
    "elif( gen=='f' and yos>=10 and qual==0):\n",
    "    salary = 9000\n",
    "    print(\"Salary : \" , salary)\n",
    "elif( gen=='f' and yos<10 and qual==0):\n",
    "    salary = 6000\n",
    "    print(\"Salary : \" , salary)"
   ]
  },
  {
   "cell_type": "code",
   "execution_count": 33,
   "id": "313c5897",
   "metadata": {},
   "outputs": [
    {
     "name": "stdout",
     "output_type": "stream",
     "text": [
      "Enter the cost price of an item :120\n",
      "Enter the selling price of an item :150\n",
      "Profit : 30.0\n"
     ]
    }
   ],
   "source": [
    "#7. If cost price and selling price of an item is input through the keyboard, write a program \n",
    "#to determine whether the seller has made profit or incurred loss. Also determine how \n",
    "#much profit he made or loss he incurred.\n",
    "cost_price=float(input(\"Enter the cost price of an item :\"))\n",
    "selling_price=float(input(\"Enter the selling price of an item :\"))\n",
    "if(selling_price > cost_price):\n",
    "    profit=selling_price - cost_price\n",
    "    print(\"Profit :\",profit)\n",
    "elif(cost_price > selling_price):\n",
    "    loss= cost_price - selling_price\n",
    "    print(\"Loss :\",loss)\n",
    "else:\n",
    "    print(\"No Profit No Loss\")\n"
   ]
  },
  {
   "cell_type": "code",
   "execution_count": 35,
   "id": "6989938a",
   "metadata": {},
   "outputs": [
    {
     "name": "stdout",
     "output_type": "stream",
     "text": [
      "Enter the number :5\n",
      "Odd Number\n"
     ]
    }
   ],
   "source": [
    "#8. Any integer is input through the keyboard. Write a program to find out whether it is an \n",
    "#odd number or even number. (Hint: Use the % (modulus) operator)\n",
    "num=int(input(\"Enter the number :\"))\n",
    "if num%2==0:\n",
    "    print(\"Even Number\")\n",
    "else:\n",
    "    print(\"Odd Number\")"
   ]
  },
  {
   "cell_type": "code",
   "execution_count": 37,
   "id": "bd676fb6",
   "metadata": {},
   "outputs": [
    {
     "name": "stdout",
     "output_type": "stream",
     "text": [
      "Enter the Number :34567\n",
      "Not Eqaul..\n"
     ]
    }
   ],
   "source": [
    "#9. A five-digit number is entered through the keyboard. Write a program to obtain the \n",
    "#reversed number and to determine whether the original and reversed numbers are equal \n",
    "#or not.\n",
    "num = int(input(\"Enter the Number :\"))\n",
    "a=num\n",
    "sum=0\n",
    "while(num>0):\n",
    "    rem=num%10\n",
    "    sum=(sum*10)+rem\n",
    "    num=num//10\n",
    "if(a==sum):\n",
    "    print(\"Eqaul..\")\n",
    "else:\n",
    "    print(\"Not Eqaul..\")"
   ]
  },
  {
   "cell_type": "code",
   "execution_count": 38,
   "id": "44c95aca",
   "metadata": {},
   "outputs": [
    {
     "name": "stdout",
     "output_type": "stream",
     "text": [
      "Enter the age of Ram :33\n",
      "Enter the age of Shyam :23\n",
      "Enter the age of Ajay:31\n",
      " The Youngest is Shyam\n"
     ]
    }
   ],
   "source": [
    "#10. If the ages of Ram, Shyam and Ajay are input through the keyboard, write a program to \n",
    "#determine the youngest of the three. \n",
    "age1=int(input(\"Enter the age of Ram :\"))\n",
    "age2=int(input(\"Enter the age of Shyam :\"))\n",
    "age3=int(input(\"Enter the age of Ajay:\"))\n",
    "if(age1<age2 and age1<age3):\n",
    "    print(\"The Youngest is Ram\")\n",
    "elif(age2<age1 and age2<age3):\n",
    "    print(\" The Youngest is Shyam\")\n",
    "else:\n",
    "    print(\"The Youngest is Ajay\")"
   ]
  },
  {
   "cell_type": "code",
   "execution_count": 40,
   "id": "a9547716",
   "metadata": {},
   "outputs": [
    {
     "name": "stdout",
     "output_type": "stream",
     "text": [
      "Enter the angle1 :60\n",
      "Enter the angle2 :60\n",
      "Enter the angle3 :60\n",
      "A triangle is valid\n"
     ]
    }
   ],
   "source": [
    "#11. Write a program to check whether a triangle is valid or not, when the three angles of \n",
    "#the triangle are entered through the keyboard. A triangle is valid if the sum of all the three \n",
    "#angles is equal to 180 degrees. \n",
    "t1=int(input(\"Enter the angle1 :\"))\n",
    "t2=int(input(\"Enter the angle2 :\"))\n",
    "t3=int(input(\"Enter the angle3 :\"))\n",
    "sum=t1+t2+t3\n",
    "if(sum==180):\n",
    "    print(\"A triangle is valid\")\n",
    "else:\n",
    "    print(\"A triangle is not valid\")"
   ]
  },
  {
   "cell_type": "code",
   "execution_count": 41,
   "id": "781c9827",
   "metadata": {},
   "outputs": [
    {
     "name": "stdout",
     "output_type": "stream",
     "text": [
      "Enter the Number :3\n",
      "Absolute Number : 3\n"
     ]
    }
   ],
   "source": [
    "#12. Find the absolute value of a number entered through the keyboard.\n",
    "num = int(input(\"Enter the Number :\"))\n",
    "if(num<0):\n",
    "    num = (-1)*num\n",
    "print(\"Absolute Number :\",num)"
   ]
  },
  {
   "cell_type": "code",
   "execution_count": 42,
   "id": "f7c07dce",
   "metadata": {},
   "outputs": [
    {
     "name": "stdout",
     "output_type": "stream",
     "text": [
      "Enter the Length : 22\n",
      "Enter the Breadth : 24\n",
      "Area of Rectangle : 528.0\n",
      "Perimeter of Rectangle : 92.0\n",
      "Area of rectangle is greater than  Perimeter\n"
     ]
    }
   ],
   "source": [
    "#13. Given the length and breadth of a rectangle, write a program to find whether the area \n",
    "#of the rectangle is greater than its perimeter. For example, the area of the rectangle with \n",
    "#length = 5 and breadth = 4 is greater than its perimeter \n",
    "len = float(input(\"Enter the Length : \"))\n",
    "bre = float(input(\"Enter the Breadth : \"))\n",
    "area = len * bre;\n",
    "perimeter = 2 * (len+bre)\n",
    "print(\"Area of Rectangle :\", area)\n",
    "print(\"Perimeter of Rectangle :\", perimeter)\n",
    "if (area>perimeter):\n",
    "    print(\"Area of rectangle is greater than  Perimeter\")\n",
    "else:\n",
    "    print(\"Perimeter of rectangle is greater than Area\")"
   ]
  },
  {
   "cell_type": "code",
   "execution_count": 43,
   "id": "67aa0602",
   "metadata": {},
   "outputs": [
    {
     "name": "stdout",
     "output_type": "stream",
     "text": [
      "Enter the Year :2001\n",
      "Given Year is not a leap Year\n"
     ]
    }
   ],
   "source": [
    "#14. Any year is entered through the keyboard, write a program to determine whether the \n",
    "#year is leap or not. Use the logical operators && and ||. \n",
    "year = int(input(\"Enter the Year :\")) \n",
    "if (year%4 == 0 and year%100 != 0):\n",
    "    print(\"Given Year is a leap Year\")\n",
    "else:  \n",
    "    print (\"Given Year is not a leap Year\")  "
   ]
  },
  {
   "cell_type": "code",
   "execution_count": null,
   "id": "21e81b32",
   "metadata": {},
   "outputs": [],
   "source": [
    "15. A certain grade of steel is graded according to the following conditions: \n",
    "i. Hardness must be greater than 50 \n",
    "ii. Carbon content must be less than 0.7 \n",
    "iii. Tensile strength must be greater than 5600 \n",
    "The grades are as follows: \n",
    "i. Grade is 10 if all three conditions are met \n",
    "ii. Grade is 9 if conditions (i) and (ii) are met \n",
    "iii. Grade is 8 if conditions (ii) and (iii) are met \n",
    "iv. Grade is 7 if conditions (i) and (iii) are met \n",
    "v. Grade is 6 if only one condition is met \n",
    "vi. Grade is 5 if none of the conditions are met \n",
    "Write a program, which will require the user to give values of hardness, carbon content and \n",
    "tensile strength of the steel under consideration and output the grade of the steel. "
   ]
  },
  {
   "cell_type": "code",
   "execution_count": 44,
   "id": "333ae9c2",
   "metadata": {},
   "outputs": [
    {
     "name": "stdout",
     "output_type": "stream",
     "text": [
      "Enter the value of Hardness : 22\n",
      "Enter the value of Carbon Content: 23\n",
      "Enter the value of Tensile Strength: 36\n",
      "The Grade of Steel  : 5\n"
     ]
    }
   ],
   "source": [
    "hs_f=0\n",
    "cc_f=0\n",
    "ts_f=0\n",
    "hs = float(input(\"Enter the value of Hardness : \"))\n",
    "cc = float(input(\"Enter the value of Carbon Content: \"))\n",
    "ts = float(input(\"Enter the value of Tensile Strength: \"))\n",
    "if (hs>50):\n",
    "    hs_f=1\n",
    "if (cc<0.7):\n",
    "    cc_f=1\n",
    "if (ts>5600):\n",
    "    ts_f=1\n",
    "if(hs_f==0 and cc_f==0 and ts_f==0):\n",
    "    grade = 5\n",
    "elif(hs_f==1 or cc_f==1 or ts==1):\n",
    "    grade = 6\n",
    "elif(hs_f==1 and cc_f==0 and ts_f==1):\n",
    "    grade = 7\n",
    "elif(hs_f==0 and cc_f==1 and ts_f==1):\n",
    "    grade = 8\n",
    "elif(hs_f==1 and cc_f==1 and ts_f==0):\n",
    "    grade = 9\n",
    "    \n",
    "else:\n",
    "    grade = 10\n",
    " \n",
    "print(\"The Grade of Steel  :\", grade)"
   ]
  },
  {
   "cell_type": "code",
   "execution_count": null,
   "id": "2091eef3",
   "metadata": {},
   "outputs": [],
   "source": [
    "#16. A library charges a fine for every book returned late. For first 5 days the fine is 50 \n",
    "#paise, for 6-10 days fine is one rupee and above 10 days fine is 5 rupees. If you return the \n",
    "#book after 30 days your membership will be cancelled. Write a program to accept the \n",
    "#number of days the member is late to return the book and display the fine or the \n",
    "#appropriate message."
   ]
  },
  {
   "cell_type": "code",
   "execution_count": 48,
   "id": "bc44bec9",
   "metadata": {},
   "outputs": [
    {
     "name": "stdout",
     "output_type": "stream",
     "text": [
      "Enter the number of day : 15\n",
      "fine amount pay to RS. : 75\n"
     ]
    }
   ],
   "source": [
    "days=int(input(\"Enter the number of day : \"))\n",
    "if (days>0 and days<=5):\n",
    "    amount=0.50*days\n",
    "    print(\"fine amount pay to RS. :\",amount)\n",
    "elif(days>=6 and days<=10):\n",
    "    amount=1*days\n",
    "    print(\"fine amount pay to RS. :\",amount)\n",
    "elif(days> 10 and days<=29):\n",
    "    amount=5*days\n",
    "    print(\"fine amount pay to RS. :\",amount)\n",
    "else:\n",
    "    print(\"Your membership will be cancelled\")\n",
    "    \n",
    "    "
   ]
  },
  {
   "cell_type": "code",
   "execution_count": null,
   "id": "c7618bff",
   "metadata": {},
   "outputs": [],
   "source": [
    "17. In a company, worker efficiency is determined on the basis of the time required for a \n",
    "worker to complete a particular job. If the time taken by the worker is between 2 – 3 \n",
    "hours, then the worker is said to be highly efficient. If the time required by the worker is \n",
    "between 3 – 4 hours, then the worker is ordered to improve speed. If the time taken is \n",
    "between 4 – 5 hours, the worker is given training to improve his speed, and if the time \n",
    "taken by the worker is more than 5 hours, then the worker has to leave the company. If the \n",
    "time taken by the worker is input through the keyboard, find the efficiency of the worker."
   ]
  },
  {
   "cell_type": "code",
   "execution_count": 50,
   "id": "70b26efa",
   "metadata": {},
   "outputs": [
    {
     "name": "stdout",
     "output_type": "stream",
     "text": [
      "Enter the time taken by worker4\n",
      "Worker needs to improve speed\n"
     ]
    }
   ],
   "source": [
    "hrs=float(input(\"Enter the time taken by worker\"))\n",
    "if(hrs>=2 and hrs<=3):\n",
    "    print(\"worker is highly efficient\")\n",
    "elif(hrs>3 and hrs<=4):\n",
    "    print(\"Worker needs to improve speed\")\n",
    "elif(hrs>4 and hrs<=5):\n",
    "    print(\"Give taining to worker\")\n",
    "else:\n",
    "    print(\"worker is leave the company\")"
   ]
  },
  {
   "cell_type": "code",
   "execution_count": 51,
   "id": "fc3a1347",
   "metadata": {},
   "outputs": [
    {
     "name": "stdout",
     "output_type": "stream",
     "text": [
      "Enter the number : 20\n",
      "1\n",
      "2\n",
      "4\n",
      "5\n",
      "10\n",
      "20\n"
     ]
    }
   ],
   "source": [
    "#Task -III \n",
    "#1. Write a program to find the factor of the given number. \n",
    "num=int(input(\"Enter the number : \"))\n",
    "for i in range(1,num+1):\n",
    "    if num%i==0:\n",
    "        print(i)\n"
   ]
  },
  {
   "cell_type": "code",
   "execution_count": 52,
   "id": "16a29471",
   "metadata": {},
   "outputs": [
    {
     "name": "stdout",
     "output_type": "stream",
     "text": [
      "Enter a number :24\n",
      "This is not a prime number\n"
     ]
    }
   ],
   "source": [
    "#2. Write a program to find whether the given number is prime or not. \n",
    "x=int(input(\"Enter a number :\"))\n",
    "sum=0\n",
    "for i in range(1,x+1):\n",
    "    if x%i ==0:\n",
    "        sum=sum+1\n",
    "if(sum==2):\n",
    "    print(\"This is a prime number\")\n",
    "else:\n",
    "    print(\"This is not a prime number\")"
   ]
  },
  {
   "cell_type": "code",
   "execution_count": 54,
   "id": "3a5bf806",
   "metadata": {},
   "outputs": [
    {
     "name": "stdout",
     "output_type": "stream",
     "text": [
      "Enter the number :153\n",
      "153 is a Armstrong Number\n"
     ]
    }
   ],
   "source": [
    "#3. Write a program to find the given number is Armstrong number or not. \n",
    "num=int(input(\"Enter the number :\"))\n",
    "a=num\n",
    "sum=0\n",
    "while(num>0):\n",
    "    rem=num%10\n",
    "    sum=sum+(rem*rem*rem)\n",
    "    num=num//10\n",
    "if(sum==a):\n",
    "    print(a,\"is a Armstrong Number\")\n",
    "else:\n",
    "    print(a,\"is not a Armstrong Number\")"
   ]
  },
  {
   "cell_type": "code",
   "execution_count": 56,
   "id": "dceec53d",
   "metadata": {},
   "outputs": [
    {
     "name": "stdout",
     "output_type": "stream",
     "text": [
      "153 is a Armstrong Number\n",
      "370 is a Armstrong Number\n",
      "371 is a Armstrong Number\n",
      "407 is a Armstrong Number\n"
     ]
    }
   ],
   "source": [
    "#4. Write a program to print the Armstrong numbers between 100 to 999. \n",
    "for i in range(100,999):\n",
    "    a=i\n",
    "    sum=0\n",
    "    while(i>0):\n",
    "        rem=i%10\n",
    "        sum=sum+(rem*rem*rem)\n",
    "        i=i//10\n",
    "    if(sum==a):\n",
    "        print(a, \"is a Armstrong Number\")"
   ]
  },
  {
   "cell_type": "code",
   "execution_count": 1,
   "id": "0a9ec864",
   "metadata": {},
   "outputs": [
    {
     "name": "stdout",
     "output_type": "stream",
     "text": [
      "Enter the limit :4\n",
      "Enter the numbers: 34\n",
      "Enter the numbers: 23\n",
      "Enter the numbers: 22\n",
      "Enter the numbers: 33\n",
      "Number of Even: 2\n",
      "Number of odd :  2\n"
     ]
    }
   ],
   "source": [
    "#5. Write a program to count and print the number of odd and even numbers. \n",
    "l=int(input(\"Enter the limit :\"))\n",
    "even=[]\n",
    "odd =[]\n",
    "for i in range(l):\n",
    "    n=int(input(\"Enter the numbers: \"))\n",
    "    if(n%2==0):\n",
    "        even.append(n)\n",
    "    else:\n",
    "        odd.append(n)\n",
    "print(\"Number of Even:\",len(even))\n",
    "print(\"Number of odd : \",len(odd))"
   ]
  },
  {
   "cell_type": "code",
   "execution_count": 2,
   "id": "10fe0004",
   "metadata": {},
   "outputs": [
    {
     "name": "stdout",
     "output_type": "stream",
     "text": [
      "Enter the Number :123567\n",
      "Before Number : 123567\n",
      "Reverse Number : 765321\n"
     ]
    }
   ],
   "source": [
    "#6. Write a program to find the reverse of n digit number using While loop\n",
    "num = int(input(\"Enter the Number :\"))\n",
    "a=num\n",
    "sum=0\n",
    "while(num>0):\n",
    "    rem=num%10\n",
    "    sum=(sum*10)+rem\n",
    "    num=num//10\n",
    "print(\"Before Number :\",a)\n",
    "print(\"Reverse Number :\",sum)"
   ]
  },
  {
   "cell_type": "code",
   "execution_count": 4,
   "id": "76d3e84c",
   "metadata": {},
   "outputs": [
    {
     "name": "stdout",
     "output_type": "stream",
     "text": [
      "Enter the Binary Number :00010101\n",
      "The decimal Number : 21\n"
     ]
    }
   ],
   "source": [
    "#7. Write a program to find the binary number from given decimal number. \n",
    "binary = input(\"Enter the Binary Number :\")\n",
    "decimal = 0\n",
    "for digit in binary:\n",
    "    decimal = decimal*2 + int(digit)\n",
    "print('The decimal Number :', decimal)"
   ]
  },
  {
   "cell_type": "code",
   "execution_count": 5,
   "id": "b28be44c",
   "metadata": {},
   "outputs": [
    {
     "name": "stdout",
     "output_type": "stream",
     "text": [
      "Enter the Decimal Number :20\n",
      "Binary Number : 10100\n"
     ]
    }
   ],
   "source": [
    "#8. Write a program to find the decimal number from given Binary number. \n",
    "decimal = int(input(\"Enter the Decimal Number :\"))\n",
    "binary = 0\n",
    "ctr = 0\n",
    "temp = decimal\n",
    "while(temp > 0):\n",
    "    binary = ((temp%2)*(10**ctr)) + binary\n",
    "    temp = int(temp/2)\n",
    "    ctr += 1\n",
    "print(\"Binary Number :\",binary)"
   ]
  },
  {
   "cell_type": "code",
   "execution_count": 7,
   "id": "b95095b8",
   "metadata": {},
   "outputs": [
    {
     "name": "stdout",
     "output_type": "stream",
     "text": [
      "Enter the Number :5\n",
      "The Factorial 5 is : 120\n"
     ]
    }
   ],
   "source": [
    "#9. Write a program to find the factorial of the given number.\n",
    "f = int(input(\"Enter the Number :\"))\n",
    "fact = 1    \n",
    "if(f< 0):    \n",
    "   print(\"Factorial does not exist Negative Values\")    \n",
    "elif(f== 0):    \n",
    "   print(\"The Factorial of 0 is 1\")    \n",
    "else:    \n",
    "   for i in range(1,f + 1):    \n",
    "       fact = fact*i    \n",
    "   print(\"The Factorial\",f,\"is :\",fact)  "
   ]
  },
  {
   "cell_type": "code",
   "execution_count": 8,
   "id": "56b47ea0",
   "metadata": {},
   "outputs": [
    {
     "name": "stdout",
     "output_type": "stream",
     "text": [
      "Enter the Number :5\n",
      "Fibonacci sequence:\n",
      "0\n",
      "1\n",
      "1\n",
      "2\n",
      "3\n"
     ]
    }
   ],
   "source": [
    "#10. Write a program to find the Fibonacci Series of the given number. \n",
    "n = int(input(\"Enter the Number :\"))\n",
    "n1, n2 = 0, 1\n",
    "sum = 0\n",
    "if n <= 0:\n",
    "   print(\"Please enter a positive integer\")\n",
    "elif n == 1:\n",
    "   print(\"Fibonacci sequence upto\",n,\":\",n1)\n",
    "else:\n",
    "   print(\"Fibonacci sequence:\")\n",
    "   while sum < n:\n",
    "       print(n1)\n",
    "       nth = n1 + n2\n",
    "       n1 = n2\n",
    "       n2 = nth\n",
    "       sum += 1"
   ]
  },
  {
   "cell_type": "code",
   "execution_count": 10,
   "id": "98198e71",
   "metadata": {},
   "outputs": [
    {
     "name": "stdout",
     "output_type": "stream",
     "text": [
      "Enter the Number :4\n",
      "1\n",
      "2\n"
     ]
    }
   ],
   "source": [
    "#11. Write a program to find the given number is perfect number \n",
    "num = int(input(\"Enter the Number :\"))\n",
    "for i in range(1, num):\n",
    "       if num % i == 0:\n",
    "           print(i)\n"
   ]
  },
  {
   "cell_type": "code",
   "execution_count": 11,
   "id": "77963628",
   "metadata": {},
   "outputs": [
    {
     "name": "stdout",
     "output_type": "stream",
     "text": [
      "1\n",
      "2\n",
      "4\n",
      "5\n",
      "8\n",
      "10\n",
      "20\n",
      "25\n",
      "40\n",
      "50\n",
      "100\n",
      "125\n",
      "200\n",
      "250\n",
      "500\n"
     ]
    }
   ],
   "source": [
    "#12. Write a program to print the perfect number between 1-1000\n",
    "num = 1000\n",
    "for i in range(1, num):\n",
    "       if num % i == 0:\n",
    "           print(i)"
   ]
  },
  {
   "cell_type": "code",
   "execution_count": 14,
   "id": "5cf1065e",
   "metadata": {},
   "outputs": [
    {
     "name": "stdout",
     "output_type": "stream",
     "text": [
      "Enter the Number :13\n",
      "13 is not a Strong Number\n"
     ]
    }
   ],
   "source": [
    "#13. Write a program to find the given number is strong number \n",
    "num = int(input(\"Enter the Number :\"))\n",
    "a=num\n",
    "sum=0\n",
    "while (num>0):\n",
    "    rem=num%10;\n",
    "    fact=1;\n",
    "    for i in range(1,rem+1):\n",
    "        fact=fact*i\n",
    "    sum=sum+fact;\n",
    "    num=num//10;\n",
    "if (sum == a):\n",
    "    print(a,\"is Strong Number\");\n",
    "else:\n",
    "    print(a ,\"is not a Strong Number\");"
   ]
  },
  {
   "cell_type": "code",
   "execution_count": 15,
   "id": "ec4a94a0",
   "metadata": {},
   "outputs": [
    {
     "name": "stdout",
     "output_type": "stream",
     "text": [
      "Enter the Base Number :2\n",
      "Enter the Power Number :3\n",
      "Answer : 8\n"
     ]
    }
   ],
   "source": [
    "#14. Two numbers are entered through the keyboard. Write a program to find the value of \n",
    "#one number raised to the power of another.\n",
    "base = int(input(\"Enter the Base Number :\"))\n",
    "pow = int(input(\"Enter the Power Number :\"))\n",
    "res = 1\n",
    "while pow != 0:\n",
    "    res *= base\n",
    "    pow-=1\n",
    " \n",
    "print(\"Answer :\",res)"
   ]
  },
  {
   "cell_type": "code",
   "execution_count": null,
   "id": "6184264c",
   "metadata": {},
   "outputs": [],
   "source": []
  }
 ],
 "metadata": {
  "kernelspec": {
   "display_name": "Python 3 (ipykernel)",
   "language": "python",
   "name": "python3"
  },
  "language_info": {
   "codemirror_mode": {
    "name": "ipython",
    "version": 3
   },
   "file_extension": ".py",
   "mimetype": "text/x-python",
   "name": "python",
   "nbconvert_exporter": "python",
   "pygments_lexer": "ipython3",
   "version": "3.9.7"
  }
 },
 "nbformat": 4,
 "nbformat_minor": 5
}
