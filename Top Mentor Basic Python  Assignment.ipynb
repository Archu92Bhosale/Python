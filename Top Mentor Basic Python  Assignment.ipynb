{
 "cells": [
  {
   "cell_type": "code",
   "execution_count": 1,
   "id": "3f6e0f3a",
   "metadata": {},
   "outputs": [
    {
     "name": "stdout",
     "output_type": "stream",
     "text": [
      "Hello, Gud morning, Archana Bhosale here\n"
     ]
    }
   ],
   "source": [
    "#1. Simple Message: Store a message in a variable, and then print that message.\n",
    "message=\"Hello, Gud morning, Archana Bhosale here\"\n",
    "print(message)"
   ]
  },
  {
   "cell_type": "code",
   "execution_count": 7,
   "id": "2e070a32",
   "metadata": {},
   "outputs": [
    {
     "name": "stdout",
     "output_type": "stream",
     "text": [
      "Python is a programming language. It is mainly used in many applications.\n",
      "None\n"
     ]
    }
   ],
   "source": [
    "#2. Store a message in a variable and print that message. Then change the \n",
    "#value of your variable to a new message and print the new message. \n",
    "message=\"It is mainly used in many applications.\"\n",
    "new_message=print(\"Python is a programming language.\",message)\n",
    "print(new_message)"
   ]
  },
  {
   "cell_type": "code",
   "execution_count": 8,
   "id": "3d38a56c",
   "metadata": {},
   "outputs": [
    {
     "name": "stdout",
     "output_type": "stream",
     "text": [
      "Hello Eric, would you like to learn some python today?\n"
     ]
    }
   ],
   "source": [
    "#3. Store a person’s name in a variable and print a message to that person. \n",
    "#Your message should be simple, such as, “Hello Eric, would you like to \n",
    "#learn some Python today?”\n",
    "Eric=\"Hello Eric, would you like to learn some python today?\"\n",
    "print(Eric)"
   ]
  },
  {
   "cell_type": "code",
   "execution_count": 12,
   "id": "3bab044f",
   "metadata": {},
   "outputs": [
    {
     "name": "stdout",
     "output_type": "stream",
     "text": [
      "APJ Abdul Kalam once said,\"If you fail,never give up because FAIL Attempt in Learning\",\"Failure will never overtake me if my determination to succeed is strong enough\".\n"
     ]
    }
   ],
   "source": [
    "#4. Find a quote from a famous person you admire. Print the quote and the \n",
    "#name of its author. Your output should look something like the following, \n",
    "#including the quotation marks: Albert Einstein once said, “A person who \n",
    "#never made a mistake never tried anything new.” \n",
    "quote='APJ Abdul Kalam once said,\"If you fail,never give up because FAIL Attempt in Learning\",\"Failure will never overtake me if my determination to succeed is strong enough\".'\n",
    "print(quote)"
   ]
  },
  {
   "cell_type": "code",
   "execution_count": 13,
   "id": "7c644e8b",
   "metadata": {},
   "outputs": [
    {
     "name": "stdout",
     "output_type": "stream",
     "text": [
      "\"If you fail,never give up because FAIL Attempt in Learning\",\"Failure will never overtake me if my determination to succeed is strong enough\".\n"
     ]
    }
   ],
   "source": [
    "#5. Repeat Exercise 4, but this time store the famous person’s name in a \n",
    "#variable called famous_person. Then compose your message and store it in \n",
    "#a new variable called message. Print your message.\n",
    "famous_person='APJ Abdul Kalam'\n",
    "message='\"If you fail,never give up because FAIL Attempt in Learning\",\"Failure will never overtake me if my determination to succeed is strong enough\".'\n",
    "print(message)"
   ]
  },
  {
   "cell_type": "code",
   "execution_count": 16,
   "id": "4de4f90d",
   "metadata": {},
   "outputs": [
    {
     "name": "stdout",
     "output_type": "stream",
     "text": [
      "addition = 8\n",
      "substraction = 8\n",
      "multiplication = 8\n",
      "division = 8.0\n"
     ]
    }
   ],
   "source": [
    "#6. Write addition, subtraction, multiplication, and division operations that \n",
    "#each result in the number 8. Be sure to enclose your operations in print \n",
    "#statements to see the results. You should create four lines that look like \n",
    "#this:    print (5 + 3) \n",
    "#Your output should simply be four lines with the number 8 appearing once \n",
    "#on each line.\n",
    "print(\"addition =\",5+3)\n",
    "print(\"substraction =\",10-2)\n",
    "print(\"multiplication =\",4*2)\n",
    "print(\"division =\",16/2)"
   ]
  },
  {
   "cell_type": "code",
   "execution_count": 17,
   "id": "34c0a33f",
   "metadata": {},
   "outputs": [
    {
     "name": "stdout",
     "output_type": "stream",
     "text": [
      "My favourite number is 4\n",
      "None\n"
     ]
    }
   ],
   "source": [
    "#7. Store your favourite number in a variable. Then, using that variable, create \n",
    "#a message that reveals your favourite number. Print that message. \n",
    "variable=4\n",
    "message=print(\"My favourite number is\",variable)\n",
    "print(message)"
   ]
  },
  {
   "cell_type": "code",
   "execution_count": 21,
   "id": "9fdd3d15",
   "metadata": {},
   "outputs": [
    {
     "name": "stdout",
     "output_type": "stream",
     "text": [
      "Subject - Mathematics\n",
      "addition = 8\n",
      "substraction = 8\n",
      "multiplication = 8\n",
      "division = 8.0\n",
      "Perform all mathematic operations.\n"
     ]
    }
   ],
   "source": [
    "#8. Choose two of the programs you’ve written and add at least one comment \n",
    "#to each. If you don’t have anything specific to write because your programs \n",
    "#are too simple at this point, just add your name and the current date at the \n",
    "#top of each program file. Then write one sentence describing what the \n",
    "#program does.\n",
    "print(\"Subject - Mathematics\")\n",
    "print(\"addition =\",5+3)\n",
    "print(\"substraction =\",10-2)\n",
    "print(\"multiplication =\",4*2)\n",
    "print(\"division =\",16/2)\n",
    "print(\"Perform all mathematic operations.\")"
   ]
  },
  {
   "cell_type": "code",
   "execution_count": 24,
   "id": "52088563",
   "metadata": {},
   "outputs": [
    {
     "name": "stdout",
     "output_type": "stream",
     "text": [
      "Archana\n",
      "Varsha\n",
      "Arvind\n",
      "Kalyani\n"
     ]
    }
   ],
   "source": [
    "#9. Store the names of a few of your friends in a list called names. Print each \n",
    "#person’s name by accessing each element in the list, one at a time.\n",
    "names=['Archana','Varsha','Arvind','Kalyani']\n",
    "print(names[0])\n",
    "print(names[1])\n",
    "print(names[2])\n",
    "print(names[3])"
   ]
  },
  {
   "cell_type": "code",
   "execution_count": 26,
   "id": "695c3131",
   "metadata": {},
   "outputs": [
    {
     "name": "stdout",
     "output_type": "stream",
     "text": [
      "My Name is Archana\n",
      "My Name is Varsha\n",
      "My Name is Arvind\n",
      "My Name is Kalyani\n"
     ]
    }
   ],
   "source": [
    "#10. Start with the list you used in Exercise 9, but instead of just printing each \n",
    "#person’s name, print a message to them. The text of each message should \n",
    "#be the same, but each message should be personalized with the person’s \n",
    "#name. \n",
    "names=['Archana','Varsha','Arvind','Kalyani']\n",
    "print(\"My Name is\",names[0])\n",
    "print(\"My Name is\",names[1])\n",
    "print(\"My Name is\",names[2])\n",
    "print(\"My Name is\",names[3])"
   ]
  },
  {
   "cell_type": "code",
   "execution_count": 30,
   "id": "49e9070c",
   "metadata": {},
   "outputs": [
    {
     "name": "stdout",
     "output_type": "stream",
     "text": [
      "I would like to own a motorcycle\n",
      "We are going by car\n",
      "She arrived on bicycle\n",
      "It take 5 hours by train\n",
      "She arrived on helicopter\n"
     ]
    }
   ],
   "source": [
    "#11. Think of your favourite mode of transportation, such as a motorcycle or a \n",
    "#car, and make a list that stores several examples. Use your list to print a \n",
    "#series of statements about these items, such as “I would like to own a \n",
    "#Honda motorcycle.”\n",
    "transportation_list = [\"motorcycle\", \"car\", \"bicycle\", \"train\", \"helicopter\"]\n",
    "print(\"I would like to own a\",transportation_list[0])\n",
    "print(\"We are going by\",transportation_list[1])\n",
    "print(\"She arrived on\",transportation_list[2])\n",
    "print(\"It take 5 hours by\",transportation_list[3])\n",
    "print(\"She arrived on\",transportation_list[4])"
   ]
  },
  {
   "cell_type": "code",
   "execution_count": null,
   "id": "9d704988",
   "metadata": {},
   "outputs": [],
   "source": []
  }
 ],
 "metadata": {
  "kernelspec": {
   "display_name": "Python 3 (ipykernel)",
   "language": "python",
   "name": "python3"
  },
  "language_info": {
   "codemirror_mode": {
    "name": "ipython",
    "version": 3
   },
   "file_extension": ".py",
   "mimetype": "text/x-python",
   "name": "python",
   "nbconvert_exporter": "python",
   "pygments_lexer": "ipython3",
   "version": "3.9.7"
  }
 },
 "nbformat": 4,
 "nbformat_minor": 5
}
