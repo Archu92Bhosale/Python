{
 "cells": [
  {
   "cell_type": "code",
   "execution_count": null,
   "id": "143008fe",
   "metadata": {},
   "outputs": [],
   "source": [
    "1. Write a Python program to calculate the length of a string.\n",
    "Sample Output\n",
    "Tutor Joes\n",
    "Length of String = 10\n"
   ]
  },
  {
   "cell_type": "code",
   "execution_count": 2,
   "id": "676dbe0e",
   "metadata": {},
   "outputs": [
    {
     "name": "stdout",
     "output_type": "stream",
     "text": [
      "length of name =  22\n"
     ]
    }
   ],
   "source": [
    "name=\"Archana Arvind Bhosale\"\n",
    "print(\"length of name = \",len(name))"
   ]
  },
  {
   "cell_type": "code",
   "execution_count": null,
   "id": "abfd36f9",
   "metadata": {},
   "outputs": [],
   "source": [
    "2. Write a Python program to count the number of characters (character frequency) in a string.\n",
    "Sample Output\n",
    "tutorjoes\n",
    "{'t' : 2, 'u' : 1, 'o' : 2, 'r' : 1, 'j' : 1, 'e' : 1, 's' : 1}\n",
    "\n"
   ]
  },
  {
   "cell_type": "code",
   "execution_count": 4,
   "id": "05c807d0",
   "metadata": {},
   "outputs": [
    {
     "name": "stdout",
     "output_type": "stream",
     "text": [
      "{'h': 1, 'e': 1, 'l': 2, 'o': 4, 'G': 1, 'd': 1, 'M': 1, 'r': 1, 'n': 2, 'i': 1, 'g': 1}\n"
     ]
    }
   ],
   "source": [
    "d = {}\n",
    "s = 'helloGoodMorning'\n",
    "for i in s:\n",
    "    if i not in d:\n",
    "        d[i] = 1\n",
    "    else:\n",
    "        d[i] += 1\n",
    "print(d)"
   ]
  },
  {
   "cell_type": "code",
   "execution_count": null,
   "id": "738ee9ed",
   "metadata": {},
   "outputs": [],
   "source": [
    "3. Write a Python program to get a string from a given string where all occurrences of its first char have been changed to '@', except the first char itself.\n",
    "Sample Output\n",
    "Given String = tutor joes\n",
    "After String = tu@or joes\n",
    "\n",
    "\n",
    "\n"
   ]
  },
  {
   "cell_type": "code",
   "execution_count": 6,
   "id": "ecc1f74b",
   "metadata": {},
   "outputs": [
    {
     "data": {
      "text/plain": [
       "'tu@or joes'"
      ]
     },
     "execution_count": 6,
     "metadata": {},
     "output_type": "execute_result"
    }
   ],
   "source": [
    "s='tutor joes'\n",
    "s[0]+s.replace(s[0],'@')[1:]"
   ]
  },
  {
   "cell_type": "code",
   "execution_count": 7,
   "id": "2a850220",
   "metadata": {},
   "outputs": [
    {
     "data": {
      "text/plain": [
       "'Ananya @rchana @rvind Bhosale'"
      ]
     },
     "execution_count": 7,
     "metadata": {},
     "output_type": "execute_result"
    }
   ],
   "source": [
    "s='Ananya Archana Arvind Bhosale'\n",
    "s[0]+s.replace(s[0],'@')[1:]"
   ]
  },
  {
   "cell_type": "code",
   "execution_count": null,
   "id": "c3ed2108",
   "metadata": {},
   "outputs": [],
   "source": [
    "4. Write a Python program to get a single string from two given strings, separated by a space and swap the first two characters of each string.\n",
    "Sample Output\n",
    "Before Swap = abcxyz\n",
    "After Swap = xycabz\n",
    "\n"
   ]
  },
  {
   "cell_type": "code",
   "execution_count": 9,
   "id": "5802ca48",
   "metadata": {},
   "outputs": [
    {
     "name": "stdout",
     "output_type": "stream",
     "text": [
      "xyc abz\n"
     ]
    }
   ],
   "source": [
    "s1 = 'abc'\n",
    "s2 = 'xyz'\n",
    "print(s2[:-1]+s1[-1]+' '+s1[:-1]+s2[-1])"
   ]
  },
  {
   "cell_type": "code",
   "execution_count": null,
   "id": "e3176ac9",
   "metadata": {},
   "outputs": [],
   "source": [
    "5. Write a Python program to remove the nth index character from a nonempty string.\n",
    "Sample Output\n",
    "Before Remove = Tutor Joes\n",
    "Remove character = t\n",
    "After Remove = Tuor Joes\n",
    "    "
   ]
  },
  {
   "cell_type": "code",
   "execution_count": 3,
   "id": "a15b8aae",
   "metadata": {},
   "outputs": [
    {
     "name": "stdout",
     "output_type": "stream",
     "text": [
      "Enter a string: Tutor joes\n",
      "Enter index number: 2\n",
      "After remove nth index : Tuor joes\n"
     ]
    }
   ],
   "source": [
    "x=input('Enter a string: ')\n",
    "n=int(input('Enter index number: '))\n",
    "a=x[0:n]\n",
    "b=x[n+1:]\n",
    "print('After remove nth index :',a+b)"
   ]
  },
  {
   "cell_type": "code",
   "execution_count": null,
   "id": "c0d27450",
   "metadata": {},
   "outputs": [],
   "source": [
    "6. Write a Python program to change a given string to a new string where the first and last chars have been exchanged\n",
    "Sample Output\n",
    "Before Exchange = Python\n",
    "After Exchange = nythoP\n"
   ]
  },
  {
   "cell_type": "code",
   "execution_count": 14,
   "id": "59c3b3b6",
   "metadata": {},
   "outputs": [
    {
     "name": "stdout",
     "output_type": "stream",
     "text": [
      "nythonp\n"
     ]
    }
   ],
   "source": [
    "str1=\"python\"\n",
    "new_str=str1[-1]+str1[1:]+str1[0]\n",
    "print(new_str)"
   ]
  },
  {
   "cell_type": "code",
   "execution_count": null,
   "id": "2800854c",
   "metadata": {},
   "outputs": [],
   "source": [
    "\n",
    "7. Write a Python program to remove the characters which have odd index values of a given string\n",
    "Sample Output\n",
    "String = Computer Education\n",
    "Remove Odd Index Char = Cmuedcto\n"
   ]
  },
  {
   "cell_type": "code",
   "execution_count": 18,
   "id": "7b35f422",
   "metadata": {},
   "outputs": [
    {
     "data": {
      "text/plain": [
       "'Pto agae'"
      ]
     },
     "execution_count": 18,
     "metadata": {},
     "output_type": "execute_result"
    }
   ],
   "source": [
    "string='Python language'\n",
    "string[0::2]"
   ]
  },
  {
   "cell_type": "code",
   "execution_count": null,
   "id": "c71b1d48",
   "metadata": {},
   "outputs": [],
   "source": [
    "8. Write a Python program to count the occurrences of each word in a given sentence\n",
    "Sample Output\n",
    "string = To change the overall look your document. To change the look available in the gallery\n",
    "{ 'To': 2, 'change': 2, 'the': 3, 'overall': 1, 'look': 2, 'your': 1, 'document.': 1, 'available': 1, 'in': 1, 'gallery': 1 }\n"
   ]
  },
  {
   "cell_type": "code",
   "execution_count": 2,
   "id": "c8732748",
   "metadata": {},
   "outputs": [
    {
     "name": "stdout",
     "output_type": "stream",
     "text": [
      "{'To': 2, 'change': 2, 'the': 3, 'overall': 1, 'look': 2, 'your': 1, 'document.': 1, 'available': 1, 'in': 1, 'gallery': 1}\n"
     ]
    }
   ],
   "source": [
    "str = \"To change the overall look your document. To change the look available in the gallery\"\n",
    "c = dict()\n",
    "txt = str.split(\" \")\n",
    "for t in txt:\n",
    "    if t in c:\n",
    "        c[t] += 1\n",
    "    else:\n",
    "        c[t] = 1\n",
    "print(c)"
   ]
  },
  {
   "cell_type": "code",
   "execution_count": null,
   "id": "387f4c22",
   "metadata": {},
   "outputs": [],
   "source": [
    "9. Write a Python script that takes input from the user and displays that input back in upper and lower cases.\n",
    "Sample Output\n",
    "Enter the String = Tutor Joes\n",
    "Uppercase = TUTOR JOES\n",
    "Lowercase = tutor joes\n",
    "\n"
   ]
  },
  {
   "cell_type": "code",
   "execution_count": 3,
   "id": "153f3d45",
   "metadata": {},
   "outputs": [
    {
     "name": "stdout",
     "output_type": "stream",
     "text": [
      "Enter your name: Archana Bhosale\n",
      "ARCHANA BHOSALE\n",
      "archana bhosale\n"
     ]
    }
   ],
   "source": [
    "user_input=input(\"Enter your name: \")\n",
    "print(user_input.upper())\n",
    "print(user_input.lower())\n"
   ]
  },
  {
   "cell_type": "code",
   "execution_count": null,
   "id": "fbb27436",
   "metadata": {},
   "outputs": [],
   "source": [
    "10. Write a Python function to reverses a string if it's length is a multiple of 4.\n",
    "Sample Output\n",
    "Enter the String = Computer\n",
    "If the length is a multiple of 4 = retupmoC\n",
    "Enter the String = Science\n",
    "If the length is not a multiple of 4 = Science\n"
   ]
  },
  {
   "cell_type": "code",
   "execution_count": 7,
   "id": "84a23a6c",
   "metadata": {},
   "outputs": [
    {
     "name": "stdout",
     "output_type": "stream",
     "text": [
      "Enter the string: computer\n",
      "retupmoc\n"
     ]
    }
   ],
   "source": [
    "string=input(\"Enter the string: \")\n",
    "if len(string)%4==0:\n",
    "    print(string[::-1])"
   ]
  },
  {
   "cell_type": "code",
   "execution_count": null,
   "id": "3a43a27b",
   "metadata": {},
   "outputs": [],
   "source": [
    "11. Write a Python function to convert a given string to all uppercase if it contains at least 2 uppercase characters in the first 4 characters.\n",
    "Sample Output\n",
    "Enter the String = ComPuTeR\n",
    "Check if there are at least 2 uppercase letters in the first 4 characters = COMPUTER\n",
    "Enter the String = Computer\n",
    "Check if does not contain at least 2 uppercase letters in the first 4 characters = Computer\n",
    "\n"
   ]
  },
  {
   "cell_type": "code",
   "execution_count": 3,
   "id": "90c1ebc7",
   "metadata": {},
   "outputs": [
    {
     "name": "stdout",
     "output_type": "stream",
     "text": [
      "Enter the String :ComPuTeR\n",
      "COMPUTER\n",
      "ComPuTeR\n"
     ]
    }
   ],
   "source": [
    "str = input(\"Enter the String :\")\n",
    "num_upper = 0\n",
    "for letter in str[:4]: \n",
    "    if letter.upper() == letter:\n",
    "        num_upper += 1\n",
    "if num_upper >= 2:\n",
    "    print(str.upper())\n",
    "print(str)"
   ]
  },
  {
   "cell_type": "code",
   "execution_count": null,
   "id": "a68d232b",
   "metadata": {},
   "outputs": [],
   "source": [
    "12. Write a Python program to sort a string (lexicographically).#Alphabetical order\n",
    "Sample Output\n",
    "Enter the String = Tutor\n",
    "['o', 'r', 'T', 't', 'u']\n",
    "\n"
   ]
  },
  {
   "cell_type": "code",
   "execution_count": 9,
   "id": "a0ca5610",
   "metadata": {},
   "outputs": [
    {
     "name": "stdout",
     "output_type": "stream",
     "text": [
      "Enter the string: Tutor\n",
      "['T', 'o', 'r', 't', 'u']\n"
     ]
    }
   ],
   "source": [
    "var=input(\"Enter the string: \")\n",
    "output=sorted(var)\n",
    "print(output)"
   ]
  },
  {
   "cell_type": "code",
   "execution_count": 11,
   "id": "512e71d1",
   "metadata": {},
   "outputs": [
    {
     "name": "stdout",
     "output_type": "stream",
     "text": [
      "Enter the string: Tutor\n",
      "T o r t u\n"
     ]
    }
   ],
   "source": [
    "a = input(\"Enter the string: \")\n",
    "z = sorted(a)\n",
    "print(' '.join(z))"
   ]
  },
  {
   "cell_type": "code",
   "execution_count": null,
   "id": "acc48ac3",
   "metadata": {},
   "outputs": [],
   "source": [
    "\n",
    "13. Write a Python program to remove a newline in Python.\n",
    "Sample Output\n",
    "String = \"\\nTutor \\nJoes \\nComputer \\nEducation\\n\"\n",
    "Before Remove NewLine(\\n)\n",
    "Tutor\n",
    "Joes\n",
    "Computer\n",
    "Education\n",
    "After Remove NewLine(\\n) = Tutor Joes Computer Education\n",
    "\n"
   ]
  },
  {
   "cell_type": "code",
   "execution_count": 12,
   "id": "810c6d33",
   "metadata": {},
   "outputs": [
    {
     "name": "stdout",
     "output_type": "stream",
     "text": [
      "Tutor Joes Computer Education\n"
     ]
    }
   ],
   "source": [
    "old_string = \"\\nTutor \\nJoes \\nComputer \\nEducation\\n\" \n",
    "new_string = ''.join(old_string.split('\\n'))\n",
    "print(new_string)"
   ]
  },
  {
   "cell_type": "code",
   "execution_count": null,
   "id": "b3681611",
   "metadata": {},
   "outputs": [],
   "source": [
    "14. Write a Python program to check whether a string starts with specified characters.\n",
    "Sample Output\n",
    "Tutor Joes Computer Education\n",
    "Prefix to check = Tu\n",
    "Check if the input string starts with the prefix = True\n",
    "\n",
    "\n"
   ]
  },
  {
   "cell_type": "code",
   "execution_count": 7,
   "id": "23bab091",
   "metadata": {},
   "outputs": [
    {
     "name": "stdout",
     "output_type": "stream",
     "text": [
      "False\n",
      "True\n"
     ]
    }
   ],
   "source": [
    "string='Tutor Joes Computer Education'\n",
    "print(string.startswith('tu'))\n",
    "print(string.startswith('Tu'))\n",
    "    \n",
    "    \n"
   ]
  },
  {
   "cell_type": "code",
   "execution_count": null,
   "id": "5715ede4",
   "metadata": {},
   "outputs": [],
   "source": [
    "15. Write a Python program to display formatted text (width=35,70) as output.\n",
    "Sample Output\n",
    "Python is an interpreted, object-oriented, high-level programming language\n",
    "that can be used for a wide variety of applications. Python is a powerful\n",
    "general-purpose programming language.\n",
    "Formatted Text (Width 35) :\n",
    "Python is an interpreted, object-\n",
    "oriented, high-level programming\n",
    "language that can be used for a\n",
    "wide variety of applications.\n",
    "Python is a powerful general-purpose\n",
    "programming language.\n",
    "Formatted Text (Width 70) :\n",
    "Python is an interpreted, object-oriented, high-level programming language\n",
    "that can be used for a wide variety of applications. Python is a powerful\n",
    "general-purpose programming language.\n"
   ]
  },
  {
   "cell_type": "code",
   "execution_count": 14,
   "id": "f31bbf60",
   "metadata": {},
   "outputs": [
    {
     "name": "stdout",
     "output_type": "stream",
     "text": [
      " Python is an interpreted, object-\n",
      "oriented, high-level programming\n",
      "language that can be used for a\n",
      "wide variety of applications.\n",
      "Python is a powerful general-\n",
      "purpose programming language.\n",
      "\n",
      "\n",
      "  Python is an interpreted, object-oriented, high-level programming\n",
      "language that can be used for a wide variety of applications. Python\n",
      "is a powerful general-purpose programming language.\n"
     ]
    }
   ],
   "source": [
    "import textwrap\n",
    "para=\"\"\"\n",
    "Python is an interpreted, object-oriented, high-level programming language\n",
    "that can be used for a wide variety of applications. Python is a powerful\n",
    "general-purpose programming language.\n",
    "\n",
    "\"\"\"\n",
    "print(textwrap.fill(para, width=35))\n",
    "print(\"\\n\\n\",textwrap.fill(para, width=70))\n",
    "\n",
    "\n",
    "\n"
   ]
  },
  {
   "cell_type": "code",
   "execution_count": null,
   "id": "26db24c0",
   "metadata": {},
   "outputs": [],
   "source": [
    "16. Write a Python program to remove existing indentation from all of the lines in a given text.\n",
    "Sample Output\n",
    "Original text :\n",
    "              Python is an interpreted, object-oriented, high-level programming language\n",
    "              that can be used for a wide variety of applications. Python is a powerful\n",
    "              general-purpose programming language.\n",
    "Dedentedtext :\n",
    "Python is an interpreted, object-oriented, high-level programming language\n",
    "that can be used for a wide variety of applications. Python is a powerful\n",
    "general-purpose programming language.\n",
    "\n",
    "\n"
   ]
  },
  {
   "cell_type": "code",
   "execution_count": 19,
   "id": "fcb5071f",
   "metadata": {},
   "outputs": [
    {
     "name": "stdout",
     "output_type": "stream",
     "text": [
      "\n",
      "Python is an interpreted, object-oriented, high-level programming language\n",
      "that can be used for a wide variety of applications. Python is a powerful\n",
      "general-purpose programming language.\n",
      "\n",
      "\n"
     ]
    }
   ],
   "source": [
    "\n",
    "Original_text = '''\n",
    "             Python is an interpreted, object-oriented, high-level programming language\n",
    "             that can be used for a wide variety of applications. Python is a powerful\n",
    "             general-purpose programming language.\n",
    "    \n",
    "            '''\n",
    "text_without_Indentation = textwrap.dedent(Original_text)## to remove the indentation\n",
    "print(text_without_Indentation )\n"
   ]
  },
  {
   "cell_type": "code",
   "execution_count": null,
   "id": "c4e811e7",
   "metadata": {},
   "outputs": [],
   "source": [
    "17. Write a Python program to add a prefix text to all of the lines in a string.\n",
    "Sample Output\n",
    "Text :\n",
    "              Python is an interpreted, object-oriented, high-level programming language\n",
    "              that can be used for a wide variety of applications. Python is a powerful\n",
    "              general-purpose programming language.\n",
    "Prefix to add to each line = *\n",
    "Display the Result :\n",
    "      *  Python is an interpreted, object-oriented, high-level programming language\n",
    "      *  that can be used for a wide variety of applications. Python is a powerful\n",
    "      *  general-purpose programming language.\n",
    "\n"
   ]
  },
  {
   "cell_type": "code",
   "execution_count": 21,
   "id": "d06d5418",
   "metadata": {},
   "outputs": [
    {
     "name": "stdout",
     "output_type": "stream",
     "text": [
      "\n",
      "* Python is an interpreted, object-oriented, high-level programming language\n",
      "* that can be used for a wide variety of applications. Python is a powerful\n",
      "* general-purpose programming language.\n",
      "\n",
      "\n"
     ]
    }
   ],
   "source": [
    "txt=\"\"\"\n",
    "Python is an interpreted, object-oriented, high-level programming language\n",
    "that can be used for a wide variety of applications. Python is a powerful\n",
    "general-purpose programming language.\n",
    "\n",
    "\"\"\"\n",
    "new_txt= textwrap.indent(txt, '* ')\n",
    "print(new_txt)"
   ]
  },
  {
   "cell_type": "code",
   "execution_count": null,
   "id": "2f27e1bc",
   "metadata": {},
   "outputs": [],
   "source": []
  }
 ],
 "metadata": {
  "kernelspec": {
   "display_name": "Python 3 (ipykernel)",
   "language": "python",
   "name": "python3"
  },
  "language_info": {
   "codemirror_mode": {
    "name": "ipython",
    "version": 3
   },
   "file_extension": ".py",
   "mimetype": "text/x-python",
   "name": "python",
   "nbconvert_exporter": "python",
   "pygments_lexer": "ipython3",
   "version": "3.9.7"
  }
 },
 "nbformat": 4,
 "nbformat_minor": 5
}
